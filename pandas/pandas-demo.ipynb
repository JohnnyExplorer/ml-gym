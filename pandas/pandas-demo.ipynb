{
 "cells": [
  {
   "cell_type": "code",
   "execution_count": 44,
   "source": [
    "import pandas as pd\n",
    "import numpy as np"
   ],
   "outputs": [],
   "metadata": {}
  },
  {
   "cell_type": "markdown",
   "source": [
    "\n",
    "\n"
   ],
   "metadata": {}
  },
  {
   "cell_type": "code",
   "execution_count": 45,
   "source": [
    "my_np_array = np.random.rand(3)\n",
    "print(my_np_array)"
   ],
   "outputs": [
    {
     "output_type": "stream",
     "name": "stdout",
     "text": [
      "[0.34748544 0.0476583  0.1381075 ]\n"
     ]
    }
   ],
   "metadata": {}
  },
  {
   "cell_type": "code",
   "execution_count": 46,
   "source": [
    "my_np_array[0]"
   ],
   "outputs": [
    {
     "output_type": "execute_result",
     "data": {
      "text/plain": [
       "0.34748543852020486"
      ]
     },
     "metadata": {},
     "execution_count": 46
    }
   ],
   "metadata": {}
  },
  {
   "cell_type": "code",
   "execution_count": 47,
   "source": [
    "my_first_df = pd.DataFrame(np.random.rand(3,2))\n",
    "print(my_first_df)"
   ],
   "outputs": [
    {
     "output_type": "stream",
     "name": "stdout",
     "text": [
      "          0         1\n",
      "0  0.407788  0.498249\n",
      "1  0.948970  0.528729\n",
      "2  0.254528  0.087792\n"
     ]
    }
   ],
   "metadata": {}
  },
  {
   "cell_type": "code",
   "execution_count": 48,
   "source": [
    "print(type(my_np_array))\n",
    "print(type(my_first_df))"
   ],
   "outputs": [
    {
     "output_type": "stream",
     "name": "stdout",
     "text": [
      "<class 'numpy.ndarray'>\n",
      "<class 'pandas.core.frame.DataFrame'>\n"
     ]
    }
   ],
   "metadata": {}
  },
  {
   "cell_type": "code",
   "execution_count": 49,
   "source": [
    "my_series = pd.Series(my_np_array)\n",
    "print(my_series.to_string())"
   ],
   "outputs": [
    {
     "output_type": "stream",
     "name": "stdout",
     "text": [
      "0    0.347485\n",
      "1    0.047658\n",
      "2    0.138107\n"
     ]
    }
   ],
   "metadata": {}
  },
  {
   "cell_type": "code",
   "execution_count": 50,
   "source": [
    "my_series[0]"
   ],
   "outputs": [
    {
     "output_type": "execute_result",
     "data": {
      "text/plain": [
       "0.34748543852020486"
      ]
     },
     "metadata": {},
     "execution_count": 50
    }
   ],
   "metadata": {}
  },
  {
   "cell_type": "code",
   "execution_count": 51,
   "source": [
    "my_series = pd.Series(my_np_array, index=['test1','test2','test3'])\n",
    "print(my_series.to_string())"
   ],
   "outputs": [
    {
     "output_type": "stream",
     "name": "stdout",
     "text": [
      "test1    0.347485\n",
      "test2    0.047658\n",
      "test3    0.138107\n"
     ]
    }
   ],
   "metadata": {}
  },
  {
   "cell_type": "code",
   "execution_count": 52,
   "source": [
    "my_series.index"
   ],
   "outputs": [
    {
     "output_type": "execute_result",
     "data": {
      "text/plain": [
       "Index(['test1', 'test2', 'test3'], dtype='object')"
      ]
     },
     "metadata": {},
     "execution_count": 52
    }
   ],
   "metadata": {}
  },
  {
   "cell_type": "code",
   "execution_count": 53,
   "source": [
    "my_series"
   ],
   "outputs": [
    {
     "output_type": "execute_result",
     "data": {
      "text/plain": [
       "test1    0.347485\n",
       "test2    0.047658\n",
       "test3    0.138107\n",
       "dtype: float64"
      ]
     },
     "metadata": {},
     "execution_count": 53
    }
   ],
   "metadata": {}
  },
  {
   "cell_type": "code",
   "execution_count": 54,
   "source": [
    "my_series['test1']"
   ],
   "outputs": [
    {
     "output_type": "execute_result",
     "data": {
      "text/plain": [
       "0.34748543852020486"
      ]
     },
     "metadata": {},
     "execution_count": 54
    }
   ],
   "metadata": {}
  },
  {
   "cell_type": "code",
   "execution_count": 55,
   "source": [
    "array_2d = np.random.rand(3,2)\n"
   ],
   "outputs": [],
   "metadata": {}
  },
  {
   "cell_type": "code",
   "execution_count": 56,
   "source": [
    "array_2d[0,1]"
   ],
   "outputs": [
    {
     "output_type": "execute_result",
     "data": {
      "text/plain": [
       "0.33110672452849566"
      ]
     },
     "metadata": {},
     "execution_count": 56
    }
   ],
   "metadata": {}
  },
  {
   "cell_type": "code",
   "execution_count": 57,
   "source": [
    "df = pd.DataFrame(array_2d)\n",
    "df"
   ],
   "outputs": [
    {
     "output_type": "execute_result",
     "data": {
      "text/html": [
       "<div>\n",
       "<style scoped>\n",
       "    .dataframe tbody tr th:only-of-type {\n",
       "        vertical-align: middle;\n",
       "    }\n",
       "\n",
       "    .dataframe tbody tr th {\n",
       "        vertical-align: top;\n",
       "    }\n",
       "\n",
       "    .dataframe thead th {\n",
       "        text-align: right;\n",
       "    }\n",
       "</style>\n",
       "<table border=\"1\" class=\"dataframe\">\n",
       "  <thead>\n",
       "    <tr style=\"text-align: right;\">\n",
       "      <th></th>\n",
       "      <th>0</th>\n",
       "      <th>1</th>\n",
       "    </tr>\n",
       "  </thead>\n",
       "  <tbody>\n",
       "    <tr>\n",
       "      <th>0</th>\n",
       "      <td>0.654586</td>\n",
       "      <td>0.331107</td>\n",
       "    </tr>\n",
       "    <tr>\n",
       "      <th>1</th>\n",
       "      <td>0.084373</td>\n",
       "      <td>0.391837</td>\n",
       "    </tr>\n",
       "    <tr>\n",
       "      <th>2</th>\n",
       "      <td>0.863048</td>\n",
       "      <td>0.993171</td>\n",
       "    </tr>\n",
       "  </tbody>\n",
       "</table>\n",
       "</div>"
      ],
      "text/plain": [
       "          0         1\n",
       "0  0.654586  0.331107\n",
       "1  0.084373  0.391837\n",
       "2  0.863048  0.993171"
      ]
     },
     "metadata": {},
     "execution_count": 57
    }
   ],
   "metadata": {}
  },
  {
   "cell_type": "code",
   "execution_count": 58,
   "source": [
    "df.columns\n",
    "\n"
   ],
   "outputs": [
    {
     "output_type": "execute_result",
     "data": {
      "text/plain": [
       "RangeIndex(start=0, stop=2, step=1)"
      ]
     },
     "metadata": {},
     "execution_count": 58
    }
   ],
   "metadata": {}
  },
  {
   "cell_type": "code",
   "execution_count": 59,
   "source": [
    "df.columns = ['test1', 'test2']\n",
    "df"
   ],
   "outputs": [
    {
     "output_type": "execute_result",
     "data": {
      "text/html": [
       "<div>\n",
       "<style scoped>\n",
       "    .dataframe tbody tr th:only-of-type {\n",
       "        vertical-align: middle;\n",
       "    }\n",
       "\n",
       "    .dataframe tbody tr th {\n",
       "        vertical-align: top;\n",
       "    }\n",
       "\n",
       "    .dataframe thead th {\n",
       "        text-align: right;\n",
       "    }\n",
       "</style>\n",
       "<table border=\"1\" class=\"dataframe\">\n",
       "  <thead>\n",
       "    <tr style=\"text-align: right;\">\n",
       "      <th></th>\n",
       "      <th>test1</th>\n",
       "      <th>test2</th>\n",
       "    </tr>\n",
       "  </thead>\n",
       "  <tbody>\n",
       "    <tr>\n",
       "      <th>0</th>\n",
       "      <td>0.654586</td>\n",
       "      <td>0.331107</td>\n",
       "    </tr>\n",
       "    <tr>\n",
       "      <th>1</th>\n",
       "      <td>0.084373</td>\n",
       "      <td>0.391837</td>\n",
       "    </tr>\n",
       "    <tr>\n",
       "      <th>2</th>\n",
       "      <td>0.863048</td>\n",
       "      <td>0.993171</td>\n",
       "    </tr>\n",
       "  </tbody>\n",
       "</table>\n",
       "</div>"
      ],
      "text/plain": [
       "      test1     test2\n",
       "0  0.654586  0.331107\n",
       "1  0.084373  0.391837\n",
       "2  0.863048  0.993171"
      ]
     },
     "metadata": {},
     "execution_count": 59
    }
   ],
   "metadata": {}
  },
  {
   "cell_type": "code",
   "execution_count": 60,
   "source": [
    "type(df['test1'])\n",
    "# becomes a series"
   ],
   "outputs": [
    {
     "output_type": "execute_result",
     "data": {
      "text/plain": [
       "pandas.core.series.Series"
      ]
     },
     "metadata": {},
     "execution_count": 60
    }
   ],
   "metadata": {}
  },
  {
   "cell_type": "code",
   "execution_count": 61,
   "source": [
    "df[\"test1\"]"
   ],
   "outputs": [
    {
     "output_type": "execute_result",
     "data": {
      "text/plain": [
       "0    0.654586\n",
       "1    0.084373\n",
       "2    0.863048\n",
       "Name: test1, dtype: float64"
      ]
     },
     "metadata": {},
     "execution_count": 61
    }
   ],
   "metadata": {}
  },
  {
   "cell_type": "code",
   "execution_count": 62,
   "source": [
    "#read first 5 rows\n",
    "\n",
    "df = pd.read_csv('../../ai/pandas/course-files/pandas-fundamentals/demos/collection-master/artwork_data.csv', nrows=5)\n",
    "df.head()"
   ],
   "outputs": [
    {
     "output_type": "execute_result",
     "data": {
      "text/html": [
       "<div>\n",
       "<style scoped>\n",
       "    .dataframe tbody tr th:only-of-type {\n",
       "        vertical-align: middle;\n",
       "    }\n",
       "\n",
       "    .dataframe tbody tr th {\n",
       "        vertical-align: top;\n",
       "    }\n",
       "\n",
       "    .dataframe thead th {\n",
       "        text-align: right;\n",
       "    }\n",
       "</style>\n",
       "<table border=\"1\" class=\"dataframe\">\n",
       "  <thead>\n",
       "    <tr style=\"text-align: right;\">\n",
       "      <th></th>\n",
       "      <th>id</th>\n",
       "      <th>accession_number</th>\n",
       "      <th>artist</th>\n",
       "      <th>artistRole</th>\n",
       "      <th>artistId</th>\n",
       "      <th>title</th>\n",
       "      <th>dateText</th>\n",
       "      <th>medium</th>\n",
       "      <th>creditLine</th>\n",
       "      <th>year</th>\n",
       "      <th>acquisitionYear</th>\n",
       "      <th>dimensions</th>\n",
       "      <th>width</th>\n",
       "      <th>height</th>\n",
       "      <th>depth</th>\n",
       "      <th>units</th>\n",
       "      <th>inscription</th>\n",
       "      <th>thumbnailCopyright</th>\n",
       "      <th>thumbnailUrl</th>\n",
       "      <th>url</th>\n",
       "    </tr>\n",
       "  </thead>\n",
       "  <tbody>\n",
       "    <tr>\n",
       "      <th>0</th>\n",
       "      <td>1035</td>\n",
       "      <td>A00001</td>\n",
       "      <td>Blake, Robert</td>\n",
       "      <td>artist</td>\n",
       "      <td>38</td>\n",
       "      <td>A Figure Bowing before a Seated Old Man with h...</td>\n",
       "      <td>date not known</td>\n",
       "      <td>Watercolour, ink, chalk and graphite on paper....</td>\n",
       "      <td>Presented by Mrs John Richmond 1922</td>\n",
       "      <td>NaN</td>\n",
       "      <td>1922</td>\n",
       "      <td>support: 394 x 419 mm</td>\n",
       "      <td>394</td>\n",
       "      <td>419</td>\n",
       "      <td>NaN</td>\n",
       "      <td>mm</td>\n",
       "      <td>NaN</td>\n",
       "      <td>NaN</td>\n",
       "      <td>http://www.tate.org.uk/art/images/work/A/A00/A...</td>\n",
       "      <td>http://www.tate.org.uk/art/artworks/blake-a-fi...</td>\n",
       "    </tr>\n",
       "    <tr>\n",
       "      <th>1</th>\n",
       "      <td>1036</td>\n",
       "      <td>A00002</td>\n",
       "      <td>Blake, Robert</td>\n",
       "      <td>artist</td>\n",
       "      <td>38</td>\n",
       "      <td>Two Drawings of Frightened Figures, Probably f...</td>\n",
       "      <td>date not known</td>\n",
       "      <td>Graphite on paper</td>\n",
       "      <td>Presented by Mrs John Richmond 1922</td>\n",
       "      <td>NaN</td>\n",
       "      <td>1922</td>\n",
       "      <td>support: 311 x 213 mm</td>\n",
       "      <td>311</td>\n",
       "      <td>213</td>\n",
       "      <td>NaN</td>\n",
       "      <td>mm</td>\n",
       "      <td>NaN</td>\n",
       "      <td>NaN</td>\n",
       "      <td>http://www.tate.org.uk/art/images/work/A/A00/A...</td>\n",
       "      <td>http://www.tate.org.uk/art/artworks/blake-two-...</td>\n",
       "    </tr>\n",
       "    <tr>\n",
       "      <th>2</th>\n",
       "      <td>1037</td>\n",
       "      <td>A00003</td>\n",
       "      <td>Blake, Robert</td>\n",
       "      <td>artist</td>\n",
       "      <td>38</td>\n",
       "      <td>The Preaching of Warning. Verso: An Old Man En...</td>\n",
       "      <td>?c.1785</td>\n",
       "      <td>Graphite on paper. Verso: graphite on paper</td>\n",
       "      <td>Presented by Mrs John Richmond 1922</td>\n",
       "      <td>1785.0</td>\n",
       "      <td>1922</td>\n",
       "      <td>support: 343 x 467 mm</td>\n",
       "      <td>343</td>\n",
       "      <td>467</td>\n",
       "      <td>NaN</td>\n",
       "      <td>mm</td>\n",
       "      <td>NaN</td>\n",
       "      <td>NaN</td>\n",
       "      <td>http://www.tate.org.uk/art/images/work/A/A00/A...</td>\n",
       "      <td>http://www.tate.org.uk/art/artworks/blake-the-...</td>\n",
       "    </tr>\n",
       "    <tr>\n",
       "      <th>3</th>\n",
       "      <td>1038</td>\n",
       "      <td>A00004</td>\n",
       "      <td>Blake, Robert</td>\n",
       "      <td>artist</td>\n",
       "      <td>38</td>\n",
       "      <td>Six Drawings of Figures with Outstretched Arms</td>\n",
       "      <td>date not known</td>\n",
       "      <td>Graphite on paper</td>\n",
       "      <td>Presented by Mrs John Richmond 1922</td>\n",
       "      <td>NaN</td>\n",
       "      <td>1922</td>\n",
       "      <td>support: 318 x 394 mm</td>\n",
       "      <td>318</td>\n",
       "      <td>394</td>\n",
       "      <td>NaN</td>\n",
       "      <td>mm</td>\n",
       "      <td>NaN</td>\n",
       "      <td>NaN</td>\n",
       "      <td>http://www.tate.org.uk/art/images/work/A/A00/A...</td>\n",
       "      <td>http://www.tate.org.uk/art/artworks/blake-six-...</td>\n",
       "    </tr>\n",
       "    <tr>\n",
       "      <th>4</th>\n",
       "      <td>1039</td>\n",
       "      <td>A00005</td>\n",
       "      <td>Blake, William</td>\n",
       "      <td>artist</td>\n",
       "      <td>39</td>\n",
       "      <td>The Circle of the Lustful: Francesca da Rimini...</td>\n",
       "      <td>1826–7, reprinted 1892</td>\n",
       "      <td>Line engraving on paper</td>\n",
       "      <td>Purchased with the assistance of a special gra...</td>\n",
       "      <td>1826.0</td>\n",
       "      <td>1919</td>\n",
       "      <td>image: 243 x 335 mm</td>\n",
       "      <td>243</td>\n",
       "      <td>335</td>\n",
       "      <td>NaN</td>\n",
       "      <td>mm</td>\n",
       "      <td>NaN</td>\n",
       "      <td>NaN</td>\n",
       "      <td>http://www.tate.org.uk/art/images/work/A/A00/A...</td>\n",
       "      <td>http://www.tate.org.uk/art/artworks/blake-the-...</td>\n",
       "    </tr>\n",
       "  </tbody>\n",
       "</table>\n",
       "</div>"
      ],
      "text/plain": [
       "     id accession_number          artist artistRole  artistId  \\\n",
       "0  1035           A00001   Blake, Robert     artist        38   \n",
       "1  1036           A00002   Blake, Robert     artist        38   \n",
       "2  1037           A00003   Blake, Robert     artist        38   \n",
       "3  1038           A00004   Blake, Robert     artist        38   \n",
       "4  1039           A00005  Blake, William     artist        39   \n",
       "\n",
       "                                               title                dateText  \\\n",
       "0  A Figure Bowing before a Seated Old Man with h...          date not known   \n",
       "1  Two Drawings of Frightened Figures, Probably f...          date not known   \n",
       "2  The Preaching of Warning. Verso: An Old Man En...                 ?c.1785   \n",
       "3     Six Drawings of Figures with Outstretched Arms          date not known   \n",
       "4  The Circle of the Lustful: Francesca da Rimini...  1826–7, reprinted 1892   \n",
       "\n",
       "                                              medium  \\\n",
       "0  Watercolour, ink, chalk and graphite on paper....   \n",
       "1                                  Graphite on paper   \n",
       "2        Graphite on paper. Verso: graphite on paper   \n",
       "3                                  Graphite on paper   \n",
       "4                            Line engraving on paper   \n",
       "\n",
       "                                          creditLine    year  acquisitionYear  \\\n",
       "0                Presented by Mrs John Richmond 1922     NaN             1922   \n",
       "1                Presented by Mrs John Richmond 1922     NaN             1922   \n",
       "2                Presented by Mrs John Richmond 1922  1785.0             1922   \n",
       "3                Presented by Mrs John Richmond 1922     NaN             1922   \n",
       "4  Purchased with the assistance of a special gra...  1826.0             1919   \n",
       "\n",
       "              dimensions  width  height  depth units  inscription  \\\n",
       "0  support: 394 x 419 mm    394     419    NaN    mm          NaN   \n",
       "1  support: 311 x 213 mm    311     213    NaN    mm          NaN   \n",
       "2  support: 343 x 467 mm    343     467    NaN    mm          NaN   \n",
       "3  support: 318 x 394 mm    318     394    NaN    mm          NaN   \n",
       "4    image: 243 x 335 mm    243     335    NaN    mm          NaN   \n",
       "\n",
       "   thumbnailCopyright                                       thumbnailUrl  \\\n",
       "0                 NaN  http://www.tate.org.uk/art/images/work/A/A00/A...   \n",
       "1                 NaN  http://www.tate.org.uk/art/images/work/A/A00/A...   \n",
       "2                 NaN  http://www.tate.org.uk/art/images/work/A/A00/A...   \n",
       "3                 NaN  http://www.tate.org.uk/art/images/work/A/A00/A...   \n",
       "4                 NaN  http://www.tate.org.uk/art/images/work/A/A00/A...   \n",
       "\n",
       "                                                 url  \n",
       "0  http://www.tate.org.uk/art/artworks/blake-a-fi...  \n",
       "1  http://www.tate.org.uk/art/artworks/blake-two-...  \n",
       "2  http://www.tate.org.uk/art/artworks/blake-the-...  \n",
       "3  http://www.tate.org.uk/art/artworks/blake-six-...  \n",
       "4  http://www.tate.org.uk/art/artworks/blake-the-...  "
      ]
     },
     "metadata": {},
     "execution_count": 62
    }
   ],
   "metadata": {}
  },
  {
   "cell_type": "code",
   "execution_count": 63,
   "source": [
    "#use id for index\n",
    "df = pd.read_csv('../../ai/pandas/course-files/pandas-fundamentals/demos/collection-master/artwork_data.csv',\n",
    " nrows=5,\n",
    " index_col='id')\n",
    "df.head()"
   ],
   "outputs": [
    {
     "output_type": "error",
     "ename": "FileNotFoundError",
     "evalue": "[Errno 2] No such file or directory: './course-files/pandas-fundamentals/demos/collection-master/artwork_data.csv'",
     "traceback": [
      "\u001b[1;31m---------------------------------------------------------------------------\u001b[0m",
      "\u001b[1;31mFileNotFoundError\u001b[0m                         Traceback (most recent call last)",
      "\u001b[1;32m<ipython-input-63-2740d6287ff1>\u001b[0m in \u001b[0;36m<module>\u001b[1;34m\u001b[0m\n\u001b[0;32m      1\u001b[0m \u001b[1;31m#use id for index\u001b[0m\u001b[1;33m\u001b[0m\u001b[1;33m\u001b[0m\u001b[1;33m\u001b[0m\u001b[0m\n\u001b[1;32m----> 2\u001b[1;33m df = pd.read_csv('./course-files/pandas-fundamentals/demos/collection-master/artwork_data.csv',\n\u001b[0m\u001b[0;32m      3\u001b[0m  \u001b[0mnrows\u001b[0m\u001b[1;33m=\u001b[0m\u001b[1;36m5\u001b[0m\u001b[1;33m,\u001b[0m\u001b[1;33m\u001b[0m\u001b[1;33m\u001b[0m\u001b[0m\n\u001b[0;32m      4\u001b[0m  index_col='id')\n\u001b[0;32m      5\u001b[0m \u001b[0mdf\u001b[0m\u001b[1;33m.\u001b[0m\u001b[0mhead\u001b[0m\u001b[1;33m(\u001b[0m\u001b[1;33m)\u001b[0m\u001b[1;33m\u001b[0m\u001b[1;33m\u001b[0m\u001b[0m\n",
      "\u001b[1;32mC:\\Python39\\lib\\site-packages\\pandas\\util\\_decorators.py\u001b[0m in \u001b[0;36mwrapper\u001b[1;34m(*args, **kwargs)\u001b[0m\n\u001b[0;32m    309\u001b[0m                     \u001b[0mstacklevel\u001b[0m\u001b[1;33m=\u001b[0m\u001b[0mstacklevel\u001b[0m\u001b[1;33m,\u001b[0m\u001b[1;33m\u001b[0m\u001b[1;33m\u001b[0m\u001b[0m\n\u001b[0;32m    310\u001b[0m                 )\n\u001b[1;32m--> 311\u001b[1;33m             \u001b[1;32mreturn\u001b[0m \u001b[0mfunc\u001b[0m\u001b[1;33m(\u001b[0m\u001b[1;33m*\u001b[0m\u001b[0margs\u001b[0m\u001b[1;33m,\u001b[0m \u001b[1;33m**\u001b[0m\u001b[0mkwargs\u001b[0m\u001b[1;33m)\u001b[0m\u001b[1;33m\u001b[0m\u001b[1;33m\u001b[0m\u001b[0m\n\u001b[0m\u001b[0;32m    312\u001b[0m \u001b[1;33m\u001b[0m\u001b[0m\n\u001b[0;32m    313\u001b[0m         \u001b[1;32mreturn\u001b[0m \u001b[0mwrapper\u001b[0m\u001b[1;33m\u001b[0m\u001b[1;33m\u001b[0m\u001b[0m\n",
      "\u001b[1;32mC:\\Python39\\lib\\site-packages\\pandas\\io\\parsers\\readers.py\u001b[0m in \u001b[0;36mread_csv\u001b[1;34m(filepath_or_buffer, sep, delimiter, header, names, index_col, usecols, squeeze, prefix, mangle_dupe_cols, dtype, engine, converters, true_values, false_values, skipinitialspace, skiprows, skipfooter, nrows, na_values, keep_default_na, na_filter, verbose, skip_blank_lines, parse_dates, infer_datetime_format, keep_date_col, date_parser, dayfirst, cache_dates, iterator, chunksize, compression, thousands, decimal, lineterminator, quotechar, quoting, doublequote, escapechar, comment, encoding, encoding_errors, dialect, error_bad_lines, warn_bad_lines, on_bad_lines, delim_whitespace, low_memory, memory_map, float_precision, storage_options)\u001b[0m\n\u001b[0;32m    584\u001b[0m     \u001b[0mkwds\u001b[0m\u001b[1;33m.\u001b[0m\u001b[0mupdate\u001b[0m\u001b[1;33m(\u001b[0m\u001b[0mkwds_defaults\u001b[0m\u001b[1;33m)\u001b[0m\u001b[1;33m\u001b[0m\u001b[1;33m\u001b[0m\u001b[0m\n\u001b[0;32m    585\u001b[0m \u001b[1;33m\u001b[0m\u001b[0m\n\u001b[1;32m--> 586\u001b[1;33m     \u001b[1;32mreturn\u001b[0m \u001b[0m_read\u001b[0m\u001b[1;33m(\u001b[0m\u001b[0mfilepath_or_buffer\u001b[0m\u001b[1;33m,\u001b[0m \u001b[0mkwds\u001b[0m\u001b[1;33m)\u001b[0m\u001b[1;33m\u001b[0m\u001b[1;33m\u001b[0m\u001b[0m\n\u001b[0m\u001b[0;32m    587\u001b[0m \u001b[1;33m\u001b[0m\u001b[0m\n\u001b[0;32m    588\u001b[0m \u001b[1;33m\u001b[0m\u001b[0m\n",
      "\u001b[1;32mC:\\Python39\\lib\\site-packages\\pandas\\io\\parsers\\readers.py\u001b[0m in \u001b[0;36m_read\u001b[1;34m(filepath_or_buffer, kwds)\u001b[0m\n\u001b[0;32m    480\u001b[0m \u001b[1;33m\u001b[0m\u001b[0m\n\u001b[0;32m    481\u001b[0m     \u001b[1;31m# Create the parser.\u001b[0m\u001b[1;33m\u001b[0m\u001b[1;33m\u001b[0m\u001b[1;33m\u001b[0m\u001b[0m\n\u001b[1;32m--> 482\u001b[1;33m     \u001b[0mparser\u001b[0m \u001b[1;33m=\u001b[0m \u001b[0mTextFileReader\u001b[0m\u001b[1;33m(\u001b[0m\u001b[0mfilepath_or_buffer\u001b[0m\u001b[1;33m,\u001b[0m \u001b[1;33m**\u001b[0m\u001b[0mkwds\u001b[0m\u001b[1;33m)\u001b[0m\u001b[1;33m\u001b[0m\u001b[1;33m\u001b[0m\u001b[0m\n\u001b[0m\u001b[0;32m    483\u001b[0m \u001b[1;33m\u001b[0m\u001b[0m\n\u001b[0;32m    484\u001b[0m     \u001b[1;32mif\u001b[0m \u001b[0mchunksize\u001b[0m \u001b[1;32mor\u001b[0m \u001b[0miterator\u001b[0m\u001b[1;33m:\u001b[0m\u001b[1;33m\u001b[0m\u001b[1;33m\u001b[0m\u001b[0m\n",
      "\u001b[1;32mC:\\Python39\\lib\\site-packages\\pandas\\io\\parsers\\readers.py\u001b[0m in \u001b[0;36m__init__\u001b[1;34m(self, f, engine, **kwds)\u001b[0m\n\u001b[0;32m    809\u001b[0m             \u001b[0mself\u001b[0m\u001b[1;33m.\u001b[0m\u001b[0moptions\u001b[0m\u001b[1;33m[\u001b[0m\u001b[1;34m\"has_index_names\"\u001b[0m\u001b[1;33m]\u001b[0m \u001b[1;33m=\u001b[0m \u001b[0mkwds\u001b[0m\u001b[1;33m[\u001b[0m\u001b[1;34m\"has_index_names\"\u001b[0m\u001b[1;33m]\u001b[0m\u001b[1;33m\u001b[0m\u001b[1;33m\u001b[0m\u001b[0m\n\u001b[0;32m    810\u001b[0m \u001b[1;33m\u001b[0m\u001b[0m\n\u001b[1;32m--> 811\u001b[1;33m         \u001b[0mself\u001b[0m\u001b[1;33m.\u001b[0m\u001b[0m_engine\u001b[0m \u001b[1;33m=\u001b[0m \u001b[0mself\u001b[0m\u001b[1;33m.\u001b[0m\u001b[0m_make_engine\u001b[0m\u001b[1;33m(\u001b[0m\u001b[0mself\u001b[0m\u001b[1;33m.\u001b[0m\u001b[0mengine\u001b[0m\u001b[1;33m)\u001b[0m\u001b[1;33m\u001b[0m\u001b[1;33m\u001b[0m\u001b[0m\n\u001b[0m\u001b[0;32m    812\u001b[0m \u001b[1;33m\u001b[0m\u001b[0m\n\u001b[0;32m    813\u001b[0m     \u001b[1;32mdef\u001b[0m \u001b[0mclose\u001b[0m\u001b[1;33m(\u001b[0m\u001b[0mself\u001b[0m\u001b[1;33m)\u001b[0m\u001b[1;33m:\u001b[0m\u001b[1;33m\u001b[0m\u001b[1;33m\u001b[0m\u001b[0m\n",
      "\u001b[1;32mC:\\Python39\\lib\\site-packages\\pandas\\io\\parsers\\readers.py\u001b[0m in \u001b[0;36m_make_engine\u001b[1;34m(self, engine)\u001b[0m\n\u001b[0;32m   1038\u001b[0m             )\n\u001b[0;32m   1039\u001b[0m         \u001b[1;31m# error: Too many arguments for \"ParserBase\"\u001b[0m\u001b[1;33m\u001b[0m\u001b[1;33m\u001b[0m\u001b[1;33m\u001b[0m\u001b[0m\n\u001b[1;32m-> 1040\u001b[1;33m         \u001b[1;32mreturn\u001b[0m \u001b[0mmapping\u001b[0m\u001b[1;33m[\u001b[0m\u001b[0mengine\u001b[0m\u001b[1;33m]\u001b[0m\u001b[1;33m(\u001b[0m\u001b[0mself\u001b[0m\u001b[1;33m.\u001b[0m\u001b[0mf\u001b[0m\u001b[1;33m,\u001b[0m \u001b[1;33m**\u001b[0m\u001b[0mself\u001b[0m\u001b[1;33m.\u001b[0m\u001b[0moptions\u001b[0m\u001b[1;33m)\u001b[0m  \u001b[1;31m# type: ignore[call-arg]\u001b[0m\u001b[1;33m\u001b[0m\u001b[1;33m\u001b[0m\u001b[0m\n\u001b[0m\u001b[0;32m   1041\u001b[0m \u001b[1;33m\u001b[0m\u001b[0m\n\u001b[0;32m   1042\u001b[0m     \u001b[1;32mdef\u001b[0m \u001b[0m_failover_to_python\u001b[0m\u001b[1;33m(\u001b[0m\u001b[0mself\u001b[0m\u001b[1;33m)\u001b[0m\u001b[1;33m:\u001b[0m\u001b[1;33m\u001b[0m\u001b[1;33m\u001b[0m\u001b[0m\n",
      "\u001b[1;32mC:\\Python39\\lib\\site-packages\\pandas\\io\\parsers\\c_parser_wrapper.py\u001b[0m in \u001b[0;36m__init__\u001b[1;34m(self, src, **kwds)\u001b[0m\n\u001b[0;32m     49\u001b[0m \u001b[1;33m\u001b[0m\u001b[0m\n\u001b[0;32m     50\u001b[0m         \u001b[1;31m# open handles\u001b[0m\u001b[1;33m\u001b[0m\u001b[1;33m\u001b[0m\u001b[1;33m\u001b[0m\u001b[0m\n\u001b[1;32m---> 51\u001b[1;33m         \u001b[0mself\u001b[0m\u001b[1;33m.\u001b[0m\u001b[0m_open_handles\u001b[0m\u001b[1;33m(\u001b[0m\u001b[0msrc\u001b[0m\u001b[1;33m,\u001b[0m \u001b[0mkwds\u001b[0m\u001b[1;33m)\u001b[0m\u001b[1;33m\u001b[0m\u001b[1;33m\u001b[0m\u001b[0m\n\u001b[0m\u001b[0;32m     52\u001b[0m         \u001b[1;32massert\u001b[0m \u001b[0mself\u001b[0m\u001b[1;33m.\u001b[0m\u001b[0mhandles\u001b[0m \u001b[1;32mis\u001b[0m \u001b[1;32mnot\u001b[0m \u001b[1;32mNone\u001b[0m\u001b[1;33m\u001b[0m\u001b[1;33m\u001b[0m\u001b[0m\n\u001b[0;32m     53\u001b[0m \u001b[1;33m\u001b[0m\u001b[0m\n",
      "\u001b[1;32mC:\\Python39\\lib\\site-packages\\pandas\\io\\parsers\\base_parser.py\u001b[0m in \u001b[0;36m_open_handles\u001b[1;34m(self, src, kwds)\u001b[0m\n\u001b[0;32m    220\u001b[0m         \u001b[0mLet\u001b[0m \u001b[0mthe\u001b[0m \u001b[0mreaders\u001b[0m \u001b[0mopen\u001b[0m \u001b[0mIOHandles\u001b[0m \u001b[0mafter\u001b[0m \u001b[0mthey\u001b[0m \u001b[0mare\u001b[0m \u001b[0mdone\u001b[0m \u001b[1;32mwith\u001b[0m \u001b[0mtheir\u001b[0m \u001b[0mpotential\u001b[0m \u001b[0mraises\u001b[0m\u001b[1;33m.\u001b[0m\u001b[1;33m\u001b[0m\u001b[1;33m\u001b[0m\u001b[0m\n\u001b[0;32m    221\u001b[0m         \"\"\"\n\u001b[1;32m--> 222\u001b[1;33m         self.handles = get_handle(\n\u001b[0m\u001b[0;32m    223\u001b[0m             \u001b[0msrc\u001b[0m\u001b[1;33m,\u001b[0m\u001b[1;33m\u001b[0m\u001b[1;33m\u001b[0m\u001b[0m\n\u001b[0;32m    224\u001b[0m             \u001b[1;34m\"r\"\u001b[0m\u001b[1;33m,\u001b[0m\u001b[1;33m\u001b[0m\u001b[1;33m\u001b[0m\u001b[0m\n",
      "\u001b[1;32mC:\\Python39\\lib\\site-packages\\pandas\\io\\common.py\u001b[0m in \u001b[0;36mget_handle\u001b[1;34m(path_or_buf, mode, encoding, compression, memory_map, is_text, errors, storage_options)\u001b[0m\n\u001b[0;32m    699\u001b[0m         \u001b[1;32mif\u001b[0m \u001b[0mioargs\u001b[0m\u001b[1;33m.\u001b[0m\u001b[0mencoding\u001b[0m \u001b[1;32mand\u001b[0m \u001b[1;34m\"b\"\u001b[0m \u001b[1;32mnot\u001b[0m \u001b[1;32min\u001b[0m \u001b[0mioargs\u001b[0m\u001b[1;33m.\u001b[0m\u001b[0mmode\u001b[0m\u001b[1;33m:\u001b[0m\u001b[1;33m\u001b[0m\u001b[1;33m\u001b[0m\u001b[0m\n\u001b[0;32m    700\u001b[0m             \u001b[1;31m# Encoding\u001b[0m\u001b[1;33m\u001b[0m\u001b[1;33m\u001b[0m\u001b[1;33m\u001b[0m\u001b[0m\n\u001b[1;32m--> 701\u001b[1;33m             handle = open(\n\u001b[0m\u001b[0;32m    702\u001b[0m                 \u001b[0mhandle\u001b[0m\u001b[1;33m,\u001b[0m\u001b[1;33m\u001b[0m\u001b[1;33m\u001b[0m\u001b[0m\n\u001b[0;32m    703\u001b[0m                 \u001b[0mioargs\u001b[0m\u001b[1;33m.\u001b[0m\u001b[0mmode\u001b[0m\u001b[1;33m,\u001b[0m\u001b[1;33m\u001b[0m\u001b[1;33m\u001b[0m\u001b[0m\n",
      "\u001b[1;31mFileNotFoundError\u001b[0m: [Errno 2] No such file or directory: './course-files/pandas-fundamentals/demos/collection-master/artwork_data.csv'"
     ]
    }
   ],
   "metadata": {}
  },
  {
   "cell_type": "code",
   "execution_count": null,
   "source": [
    "#limit column to import\n",
    "df = pd.read_csv('./course-files/pandas-fundamentals/demos/collection-master/artwork_data.csv',\n",
    " nrows=5,\n",
    " index_col='id',\n",
    " usecols=['id','artist']\n",
    " )\n",
    "df.head()"
   ],
   "outputs": [
    {
     "output_type": "execute_result",
     "data": {
      "text/html": [
       "<div>\n",
       "<style scoped>\n",
       "    .dataframe tbody tr th:only-of-type {\n",
       "        vertical-align: middle;\n",
       "    }\n",
       "\n",
       "    .dataframe tbody tr th {\n",
       "        vertical-align: top;\n",
       "    }\n",
       "\n",
       "    .dataframe thead th {\n",
       "        text-align: right;\n",
       "    }\n",
       "</style>\n",
       "<table border=\"1\" class=\"dataframe\">\n",
       "  <thead>\n",
       "    <tr style=\"text-align: right;\">\n",
       "      <th></th>\n",
       "      <th>artist</th>\n",
       "    </tr>\n",
       "    <tr>\n",
       "      <th>id</th>\n",
       "      <th></th>\n",
       "    </tr>\n",
       "  </thead>\n",
       "  <tbody>\n",
       "    <tr>\n",
       "      <th>1035</th>\n",
       "      <td>Blake, Robert</td>\n",
       "    </tr>\n",
       "    <tr>\n",
       "      <th>1036</th>\n",
       "      <td>Blake, Robert</td>\n",
       "    </tr>\n",
       "    <tr>\n",
       "      <th>1037</th>\n",
       "      <td>Blake, Robert</td>\n",
       "    </tr>\n",
       "    <tr>\n",
       "      <th>1038</th>\n",
       "      <td>Blake, Robert</td>\n",
       "    </tr>\n",
       "    <tr>\n",
       "      <th>1039</th>\n",
       "      <td>Blake, William</td>\n",
       "    </tr>\n",
       "  </tbody>\n",
       "</table>\n",
       "</div>"
      ],
      "text/plain": [
       "              artist\n",
       "id                  \n",
       "1035   Blake, Robert\n",
       "1036   Blake, Robert\n",
       "1037   Blake, Robert\n",
       "1038   Blake, Robert\n",
       "1039  Blake, William"
      ]
     },
     "metadata": {},
     "execution_count": 175
    }
   ],
   "metadata": {}
  },
  {
   "cell_type": "code",
   "execution_count": null,
   "source": [
    "cols_to_use = ['id', 'artist','title','medium','year','acquisitionYear','width','height','units']\n",
    "df = pd.read_csv('./course-files/pandas-fundamentals/demos/collection-master/artwork_data.csv',\n",
    " \n",
    " index_col='id',\n",
    " usecols=cols_to_use\n",
    " )\n",
    "df.head()"
   ],
   "outputs": [
    {
     "output_type": "error",
     "ename": "FileNotFoundError",
     "evalue": "[Errno 2] No such file or directory: './course-files/pandas-fundamentals/demos/collection-master/artwork_data.csv'",
     "traceback": [
      "\u001b[1;31m---------------------------------------------------------------------------\u001b[0m",
      "\u001b[1;31mFileNotFoundError\u001b[0m                         Traceback (most recent call last)",
      "\u001b[1;32m<ipython-input-23-a22675fa4b8b>\u001b[0m in \u001b[0;36m<module>\u001b[1;34m\u001b[0m\n\u001b[0;32m      1\u001b[0m \u001b[0mcols_to_use\u001b[0m \u001b[1;33m=\u001b[0m \u001b[1;33m[\u001b[0m\u001b[1;34m'id'\u001b[0m\u001b[1;33m,\u001b[0m \u001b[1;34m'artist'\u001b[0m\u001b[1;33m,\u001b[0m\u001b[1;34m'title'\u001b[0m\u001b[1;33m,\u001b[0m\u001b[1;34m'medium'\u001b[0m\u001b[1;33m,\u001b[0m\u001b[1;34m'year'\u001b[0m\u001b[1;33m,\u001b[0m\u001b[1;34m'acquisitionYear'\u001b[0m\u001b[1;33m,\u001b[0m\u001b[1;34m'width'\u001b[0m\u001b[1;33m,\u001b[0m\u001b[1;34m'height'\u001b[0m\u001b[1;33m,\u001b[0m\u001b[1;34m'units'\u001b[0m\u001b[1;33m]\u001b[0m\u001b[1;33m\u001b[0m\u001b[1;33m\u001b[0m\u001b[0m\n\u001b[1;32m----> 2\u001b[1;33m df = pd.read_csv('./course-files/pandas-fundamentals/demos/collection-master/artwork_data.csv',\n\u001b[0m\u001b[0;32m      3\u001b[0m \u001b[1;33m\u001b[0m\u001b[0m\n\u001b[0;32m      4\u001b[0m  \u001b[0mindex_col\u001b[0m\u001b[1;33m=\u001b[0m\u001b[1;34m'id'\u001b[0m\u001b[1;33m,\u001b[0m\u001b[1;33m\u001b[0m\u001b[1;33m\u001b[0m\u001b[0m\n\u001b[0;32m      5\u001b[0m  \u001b[0musecols\u001b[0m\u001b[1;33m=\u001b[0m\u001b[0mcols_to_use\u001b[0m\u001b[1;33m\u001b[0m\u001b[1;33m\u001b[0m\u001b[0m\n",
      "\u001b[1;32mC:\\Python39\\lib\\site-packages\\pandas\\util\\_decorators.py\u001b[0m in \u001b[0;36mwrapper\u001b[1;34m(*args, **kwargs)\u001b[0m\n\u001b[0;32m    309\u001b[0m                     \u001b[0mstacklevel\u001b[0m\u001b[1;33m=\u001b[0m\u001b[0mstacklevel\u001b[0m\u001b[1;33m,\u001b[0m\u001b[1;33m\u001b[0m\u001b[1;33m\u001b[0m\u001b[0m\n\u001b[0;32m    310\u001b[0m                 )\n\u001b[1;32m--> 311\u001b[1;33m             \u001b[1;32mreturn\u001b[0m \u001b[0mfunc\u001b[0m\u001b[1;33m(\u001b[0m\u001b[1;33m*\u001b[0m\u001b[0margs\u001b[0m\u001b[1;33m,\u001b[0m \u001b[1;33m**\u001b[0m\u001b[0mkwargs\u001b[0m\u001b[1;33m)\u001b[0m\u001b[1;33m\u001b[0m\u001b[1;33m\u001b[0m\u001b[0m\n\u001b[0m\u001b[0;32m    312\u001b[0m \u001b[1;33m\u001b[0m\u001b[0m\n\u001b[0;32m    313\u001b[0m         \u001b[1;32mreturn\u001b[0m \u001b[0mwrapper\u001b[0m\u001b[1;33m\u001b[0m\u001b[1;33m\u001b[0m\u001b[0m\n",
      "\u001b[1;32mC:\\Python39\\lib\\site-packages\\pandas\\io\\parsers\\readers.py\u001b[0m in \u001b[0;36mread_csv\u001b[1;34m(filepath_or_buffer, sep, delimiter, header, names, index_col, usecols, squeeze, prefix, mangle_dupe_cols, dtype, engine, converters, true_values, false_values, skipinitialspace, skiprows, skipfooter, nrows, na_values, keep_default_na, na_filter, verbose, skip_blank_lines, parse_dates, infer_datetime_format, keep_date_col, date_parser, dayfirst, cache_dates, iterator, chunksize, compression, thousands, decimal, lineterminator, quotechar, quoting, doublequote, escapechar, comment, encoding, encoding_errors, dialect, error_bad_lines, warn_bad_lines, on_bad_lines, delim_whitespace, low_memory, memory_map, float_precision, storage_options)\u001b[0m\n\u001b[0;32m    584\u001b[0m     \u001b[0mkwds\u001b[0m\u001b[1;33m.\u001b[0m\u001b[0mupdate\u001b[0m\u001b[1;33m(\u001b[0m\u001b[0mkwds_defaults\u001b[0m\u001b[1;33m)\u001b[0m\u001b[1;33m\u001b[0m\u001b[1;33m\u001b[0m\u001b[0m\n\u001b[0;32m    585\u001b[0m \u001b[1;33m\u001b[0m\u001b[0m\n\u001b[1;32m--> 586\u001b[1;33m     \u001b[1;32mreturn\u001b[0m \u001b[0m_read\u001b[0m\u001b[1;33m(\u001b[0m\u001b[0mfilepath_or_buffer\u001b[0m\u001b[1;33m,\u001b[0m \u001b[0mkwds\u001b[0m\u001b[1;33m)\u001b[0m\u001b[1;33m\u001b[0m\u001b[1;33m\u001b[0m\u001b[0m\n\u001b[0m\u001b[0;32m    587\u001b[0m \u001b[1;33m\u001b[0m\u001b[0m\n\u001b[0;32m    588\u001b[0m \u001b[1;33m\u001b[0m\u001b[0m\n",
      "\u001b[1;32mC:\\Python39\\lib\\site-packages\\pandas\\io\\parsers\\readers.py\u001b[0m in \u001b[0;36m_read\u001b[1;34m(filepath_or_buffer, kwds)\u001b[0m\n\u001b[0;32m    480\u001b[0m \u001b[1;33m\u001b[0m\u001b[0m\n\u001b[0;32m    481\u001b[0m     \u001b[1;31m# Create the parser.\u001b[0m\u001b[1;33m\u001b[0m\u001b[1;33m\u001b[0m\u001b[1;33m\u001b[0m\u001b[0m\n\u001b[1;32m--> 482\u001b[1;33m     \u001b[0mparser\u001b[0m \u001b[1;33m=\u001b[0m \u001b[0mTextFileReader\u001b[0m\u001b[1;33m(\u001b[0m\u001b[0mfilepath_or_buffer\u001b[0m\u001b[1;33m,\u001b[0m \u001b[1;33m**\u001b[0m\u001b[0mkwds\u001b[0m\u001b[1;33m)\u001b[0m\u001b[1;33m\u001b[0m\u001b[1;33m\u001b[0m\u001b[0m\n\u001b[0m\u001b[0;32m    483\u001b[0m \u001b[1;33m\u001b[0m\u001b[0m\n\u001b[0;32m    484\u001b[0m     \u001b[1;32mif\u001b[0m \u001b[0mchunksize\u001b[0m \u001b[1;32mor\u001b[0m \u001b[0miterator\u001b[0m\u001b[1;33m:\u001b[0m\u001b[1;33m\u001b[0m\u001b[1;33m\u001b[0m\u001b[0m\n",
      "\u001b[1;32mC:\\Python39\\lib\\site-packages\\pandas\\io\\parsers\\readers.py\u001b[0m in \u001b[0;36m__init__\u001b[1;34m(self, f, engine, **kwds)\u001b[0m\n\u001b[0;32m    809\u001b[0m             \u001b[0mself\u001b[0m\u001b[1;33m.\u001b[0m\u001b[0moptions\u001b[0m\u001b[1;33m[\u001b[0m\u001b[1;34m\"has_index_names\"\u001b[0m\u001b[1;33m]\u001b[0m \u001b[1;33m=\u001b[0m \u001b[0mkwds\u001b[0m\u001b[1;33m[\u001b[0m\u001b[1;34m\"has_index_names\"\u001b[0m\u001b[1;33m]\u001b[0m\u001b[1;33m\u001b[0m\u001b[1;33m\u001b[0m\u001b[0m\n\u001b[0;32m    810\u001b[0m \u001b[1;33m\u001b[0m\u001b[0m\n\u001b[1;32m--> 811\u001b[1;33m         \u001b[0mself\u001b[0m\u001b[1;33m.\u001b[0m\u001b[0m_engine\u001b[0m \u001b[1;33m=\u001b[0m \u001b[0mself\u001b[0m\u001b[1;33m.\u001b[0m\u001b[0m_make_engine\u001b[0m\u001b[1;33m(\u001b[0m\u001b[0mself\u001b[0m\u001b[1;33m.\u001b[0m\u001b[0mengine\u001b[0m\u001b[1;33m)\u001b[0m\u001b[1;33m\u001b[0m\u001b[1;33m\u001b[0m\u001b[0m\n\u001b[0m\u001b[0;32m    812\u001b[0m \u001b[1;33m\u001b[0m\u001b[0m\n\u001b[0;32m    813\u001b[0m     \u001b[1;32mdef\u001b[0m \u001b[0mclose\u001b[0m\u001b[1;33m(\u001b[0m\u001b[0mself\u001b[0m\u001b[1;33m)\u001b[0m\u001b[1;33m:\u001b[0m\u001b[1;33m\u001b[0m\u001b[1;33m\u001b[0m\u001b[0m\n",
      "\u001b[1;32mC:\\Python39\\lib\\site-packages\\pandas\\io\\parsers\\readers.py\u001b[0m in \u001b[0;36m_make_engine\u001b[1;34m(self, engine)\u001b[0m\n\u001b[0;32m   1038\u001b[0m             )\n\u001b[0;32m   1039\u001b[0m         \u001b[1;31m# error: Too many arguments for \"ParserBase\"\u001b[0m\u001b[1;33m\u001b[0m\u001b[1;33m\u001b[0m\u001b[1;33m\u001b[0m\u001b[0m\n\u001b[1;32m-> 1040\u001b[1;33m         \u001b[1;32mreturn\u001b[0m \u001b[0mmapping\u001b[0m\u001b[1;33m[\u001b[0m\u001b[0mengine\u001b[0m\u001b[1;33m]\u001b[0m\u001b[1;33m(\u001b[0m\u001b[0mself\u001b[0m\u001b[1;33m.\u001b[0m\u001b[0mf\u001b[0m\u001b[1;33m,\u001b[0m \u001b[1;33m**\u001b[0m\u001b[0mself\u001b[0m\u001b[1;33m.\u001b[0m\u001b[0moptions\u001b[0m\u001b[1;33m)\u001b[0m  \u001b[1;31m# type: ignore[call-arg]\u001b[0m\u001b[1;33m\u001b[0m\u001b[1;33m\u001b[0m\u001b[0m\n\u001b[0m\u001b[0;32m   1041\u001b[0m \u001b[1;33m\u001b[0m\u001b[0m\n\u001b[0;32m   1042\u001b[0m     \u001b[1;32mdef\u001b[0m \u001b[0m_failover_to_python\u001b[0m\u001b[1;33m(\u001b[0m\u001b[0mself\u001b[0m\u001b[1;33m)\u001b[0m\u001b[1;33m:\u001b[0m\u001b[1;33m\u001b[0m\u001b[1;33m\u001b[0m\u001b[0m\n",
      "\u001b[1;32mC:\\Python39\\lib\\site-packages\\pandas\\io\\parsers\\c_parser_wrapper.py\u001b[0m in \u001b[0;36m__init__\u001b[1;34m(self, src, **kwds)\u001b[0m\n\u001b[0;32m     49\u001b[0m \u001b[1;33m\u001b[0m\u001b[0m\n\u001b[0;32m     50\u001b[0m         \u001b[1;31m# open handles\u001b[0m\u001b[1;33m\u001b[0m\u001b[1;33m\u001b[0m\u001b[1;33m\u001b[0m\u001b[0m\n\u001b[1;32m---> 51\u001b[1;33m         \u001b[0mself\u001b[0m\u001b[1;33m.\u001b[0m\u001b[0m_open_handles\u001b[0m\u001b[1;33m(\u001b[0m\u001b[0msrc\u001b[0m\u001b[1;33m,\u001b[0m \u001b[0mkwds\u001b[0m\u001b[1;33m)\u001b[0m\u001b[1;33m\u001b[0m\u001b[1;33m\u001b[0m\u001b[0m\n\u001b[0m\u001b[0;32m     52\u001b[0m         \u001b[1;32massert\u001b[0m \u001b[0mself\u001b[0m\u001b[1;33m.\u001b[0m\u001b[0mhandles\u001b[0m \u001b[1;32mis\u001b[0m \u001b[1;32mnot\u001b[0m \u001b[1;32mNone\u001b[0m\u001b[1;33m\u001b[0m\u001b[1;33m\u001b[0m\u001b[0m\n\u001b[0;32m     53\u001b[0m \u001b[1;33m\u001b[0m\u001b[0m\n",
      "\u001b[1;32mC:\\Python39\\lib\\site-packages\\pandas\\io\\parsers\\base_parser.py\u001b[0m in \u001b[0;36m_open_handles\u001b[1;34m(self, src, kwds)\u001b[0m\n\u001b[0;32m    220\u001b[0m         \u001b[0mLet\u001b[0m \u001b[0mthe\u001b[0m \u001b[0mreaders\u001b[0m \u001b[0mopen\u001b[0m \u001b[0mIOHandles\u001b[0m \u001b[0mafter\u001b[0m \u001b[0mthey\u001b[0m \u001b[0mare\u001b[0m \u001b[0mdone\u001b[0m \u001b[1;32mwith\u001b[0m \u001b[0mtheir\u001b[0m \u001b[0mpotential\u001b[0m \u001b[0mraises\u001b[0m\u001b[1;33m.\u001b[0m\u001b[1;33m\u001b[0m\u001b[1;33m\u001b[0m\u001b[0m\n\u001b[0;32m    221\u001b[0m         \"\"\"\n\u001b[1;32m--> 222\u001b[1;33m         self.handles = get_handle(\n\u001b[0m\u001b[0;32m    223\u001b[0m             \u001b[0msrc\u001b[0m\u001b[1;33m,\u001b[0m\u001b[1;33m\u001b[0m\u001b[1;33m\u001b[0m\u001b[0m\n\u001b[0;32m    224\u001b[0m             \u001b[1;34m\"r\"\u001b[0m\u001b[1;33m,\u001b[0m\u001b[1;33m\u001b[0m\u001b[1;33m\u001b[0m\u001b[0m\n",
      "\u001b[1;32mC:\\Python39\\lib\\site-packages\\pandas\\io\\common.py\u001b[0m in \u001b[0;36mget_handle\u001b[1;34m(path_or_buf, mode, encoding, compression, memory_map, is_text, errors, storage_options)\u001b[0m\n\u001b[0;32m    699\u001b[0m         \u001b[1;32mif\u001b[0m \u001b[0mioargs\u001b[0m\u001b[1;33m.\u001b[0m\u001b[0mencoding\u001b[0m \u001b[1;32mand\u001b[0m \u001b[1;34m\"b\"\u001b[0m \u001b[1;32mnot\u001b[0m \u001b[1;32min\u001b[0m \u001b[0mioargs\u001b[0m\u001b[1;33m.\u001b[0m\u001b[0mmode\u001b[0m\u001b[1;33m:\u001b[0m\u001b[1;33m\u001b[0m\u001b[1;33m\u001b[0m\u001b[0m\n\u001b[0;32m    700\u001b[0m             \u001b[1;31m# Encoding\u001b[0m\u001b[1;33m\u001b[0m\u001b[1;33m\u001b[0m\u001b[1;33m\u001b[0m\u001b[0m\n\u001b[1;32m--> 701\u001b[1;33m             handle = open(\n\u001b[0m\u001b[0;32m    702\u001b[0m                 \u001b[0mhandle\u001b[0m\u001b[1;33m,\u001b[0m\u001b[1;33m\u001b[0m\u001b[1;33m\u001b[0m\u001b[0m\n\u001b[0;32m    703\u001b[0m                 \u001b[0mioargs\u001b[0m\u001b[1;33m.\u001b[0m\u001b[0mmode\u001b[0m\u001b[1;33m,\u001b[0m\u001b[1;33m\u001b[0m\u001b[1;33m\u001b[0m\u001b[0m\n",
      "\u001b[1;31mFileNotFoundError\u001b[0m: [Errno 2] No such file or directory: './course-files/pandas-fundamentals/demos/collection-master/artwork_data.csv'"
     ]
    }
   ],
   "metadata": {}
  },
  {
   "cell_type": "code",
   "execution_count": null,
   "source": [
    "# save to disk\n",
    "df.to_pickle(os.path.join('./','art-df.pickle'))"
   ],
   "outputs": [],
   "metadata": {}
  },
  {
   "cell_type": "code",
   "execution_count": null,
   "source": [
    "#make df from python objects\n",
    "\n",
    "records = [('item1','price1'),\n",
    "('item2','price2'),\n",
    "('item3','price3')]\n",
    "\n",
    "df = pd.DataFrame.from_records(records)\n",
    "\n",
    "df\n",
    "\n"
   ],
   "outputs": [
    {
     "output_type": "execute_result",
     "data": {
      "text/html": [
       "<div>\n",
       "<style scoped>\n",
       "    .dataframe tbody tr th:only-of-type {\n",
       "        vertical-align: middle;\n",
       "    }\n",
       "\n",
       "    .dataframe tbody tr th {\n",
       "        vertical-align: top;\n",
       "    }\n",
       "\n",
       "    .dataframe thead th {\n",
       "        text-align: right;\n",
       "    }\n",
       "</style>\n",
       "<table border=\"1\" class=\"dataframe\">\n",
       "  <thead>\n",
       "    <tr style=\"text-align: right;\">\n",
       "      <th></th>\n",
       "      <th>0</th>\n",
       "      <th>1</th>\n",
       "    </tr>\n",
       "  </thead>\n",
       "  <tbody>\n",
       "    <tr>\n",
       "      <th>0</th>\n",
       "      <td>item1</td>\n",
       "      <td>price1</td>\n",
       "    </tr>\n",
       "    <tr>\n",
       "      <th>1</th>\n",
       "      <td>item2</td>\n",
       "      <td>price2</td>\n",
       "    </tr>\n",
       "    <tr>\n",
       "      <th>2</th>\n",
       "      <td>item3</td>\n",
       "      <td>price3</td>\n",
       "    </tr>\n",
       "  </tbody>\n",
       "</table>\n",
       "</div>"
      ],
      "text/plain": [
       "       0       1\n",
       "0  item1  price1\n",
       "1  item2  price2\n",
       "2  item3  price3"
      ]
     },
     "metadata": {},
     "execution_count": 178
    }
   ],
   "metadata": {}
  },
  {
   "cell_type": "code",
   "execution_count": null,
   "source": [
    "df = pd.DataFrame.from_records(records,columns=['items','price'])\n",
    "df"
   ],
   "outputs": [
    {
     "output_type": "execute_result",
     "data": {
      "text/html": [
       "<div>\n",
       "<style scoped>\n",
       "    .dataframe tbody tr th:only-of-type {\n",
       "        vertical-align: middle;\n",
       "    }\n",
       "\n",
       "    .dataframe tbody tr th {\n",
       "        vertical-align: top;\n",
       "    }\n",
       "\n",
       "    .dataframe thead th {\n",
       "        text-align: right;\n",
       "    }\n",
       "</style>\n",
       "<table border=\"1\" class=\"dataframe\">\n",
       "  <thead>\n",
       "    <tr style=\"text-align: right;\">\n",
       "      <th></th>\n",
       "      <th>items</th>\n",
       "      <th>price</th>\n",
       "    </tr>\n",
       "  </thead>\n",
       "  <tbody>\n",
       "    <tr>\n",
       "      <th>0</th>\n",
       "      <td>item1</td>\n",
       "      <td>price1</td>\n",
       "    </tr>\n",
       "    <tr>\n",
       "      <th>1</th>\n",
       "      <td>item2</td>\n",
       "      <td>price2</td>\n",
       "    </tr>\n",
       "    <tr>\n",
       "      <th>2</th>\n",
       "      <td>item3</td>\n",
       "      <td>price3</td>\n",
       "    </tr>\n",
       "  </tbody>\n",
       "</table>\n",
       "</div>"
      ],
      "text/plain": [
       "   items   price\n",
       "0  item1  price1\n",
       "1  item2  price2\n",
       "2  item3  price3"
      ]
     },
     "metadata": {},
     "execution_count": 179
    }
   ],
   "metadata": {}
  },
  {
   "cell_type": "code",
   "execution_count": null,
   "source": [
    "#complex read from disk\n",
    "import json\n",
    "keys_to_use = ['id', 'all_artists','title','medium','acquisitionYear','width','height','units']\n",
    "\n",
    "def get_records_from_file(path,keys):\n",
    "  with open(path) as file:\n",
    "    content = json.load(file)\n",
    "  record = []\n",
    "  for field in keys:\n",
    "    record.append(content[field])\n",
    "\n",
    "  return tuple(record)"
   ],
   "outputs": [],
   "metadata": {}
  },
  {
   "cell_type": "code",
   "execution_count": null,
   "source": [
    "path = os.path.join('./'\n",
    "'course-files',\n",
    "'pandas-fundamentals',\n",
    "'demos',\n",
    "'collection-master',\n",
    "'artworks',\n",
    "'a',\n",
    "'000',\n",
    "'a00022-1056.json')\n",
    "\n",
    "rtn = get_records_from_file(path,keys_to_use)\n",
    "\n",
    "rtn"
   ],
   "outputs": [
    {
     "output_type": "execute_result",
     "data": {
      "text/plain": [
       "(1056,\n",
       " 'William Blake',\n",
       " 'Job’s Evil Dreams',\n",
       " 'Line engraving on paper',\n",
       " 1919,\n",
       " '197',\n",
       " '152',\n",
       " 'mm')"
      ]
     },
     "metadata": {},
     "execution_count": 181
    }
   ],
   "metadata": {}
  },
  {
   "cell_type": "code",
   "execution_count": null,
   "source": [
    "#get multiple files\n",
    "\n",
    "def read_artworks_from_json(keys_to_use):\n",
    "  json_root = os.path.join('./'\n",
    "  'course-files',\n",
    "  'pandas-fundamentals',\n",
    "  'demos',\n",
    "  'collection-master',\n",
    "  'artworks')\n",
    "\n",
    "  artworks = []\n",
    "  for root,_, files in os.walk(json_root):\n",
    "    for f in files:\n",
    "      if f.endswith('json'):\n",
    "        record = get_records_from_file(\n",
    "          os.path.join(root,f),\n",
    "          keys_to_use)\n",
    "        print('gettting ',  os.path.join(root,f))\n",
    "        artworks.append(record)\n",
    "      break\n",
    "\n",
    "  df = pd.DataFrame.from_records(artworks,\n",
    "  columns=keys_to_use,\n",
    "  index=\"id\")\n",
    "  return df\n"
   ],
   "outputs": [],
   "metadata": {}
  },
  {
   "cell_type": "code",
   "execution_count": null,
   "source": [
    "df = read_artworks_from_json(keys_to_use)\n"
   ],
   "outputs": [
    {
     "output_type": "stream",
     "name": "stdout",
     "text": [
      "gettting  ./course-files\\pandas-fundamentals\\demos\\collection-master\\artworks\\a\\000\\a00001-1035.json\n",
      "gettting  ./course-files\\pandas-fundamentals\\demos\\collection-master\\artworks\\a\\001\\a00100-20230.json\n",
      "gettting  ./course-files\\pandas-fundamentals\\demos\\collection-master\\artworks\\a\\002\\a00200-6725.json\n",
      "gettting  ./course-files\\pandas-fundamentals\\demos\\collection-master\\artworks\\a\\003\\a00300-7330.json\n",
      "gettting  ./course-files\\pandas-fundamentals\\demos\\collection-master\\artworks\\a\\004\\a00400-7430.json\n",
      "gettting  ./course-files\\pandas-fundamentals\\demos\\collection-master\\artworks\\a\\005\\a00500-7530.json\n",
      "gettting  ./course-files\\pandas-fundamentals\\demos\\collection-master\\artworks\\a\\006\\a00600-7630.json\n",
      "gettting  ./course-files\\pandas-fundamentals\\demos\\collection-master\\artworks\\a\\007\\a00700-7730.json\n",
      "gettting  ./course-files\\pandas-fundamentals\\demos\\collection-master\\artworks\\a\\008\\a00800-9492.json\n",
      "gettting  ./course-files\\pandas-fundamentals\\demos\\collection-master\\artworks\\a\\009\\a00900-14407.json\n",
      "gettting  ./course-files\\pandas-fundamentals\\demos\\collection-master\\artworks\\a\\010\\a01000-14700.json\n",
      "gettting  ./course-files\\pandas-fundamentals\\demos\\collection-master\\artworks\\a\\011\\a01100-12191.json\n",
      "gettting  ./course-files\\pandas-fundamentals\\demos\\collection-master\\artworks\\a\\012\\a01200-69330.json\n",
      "gettting  ./course-files\\pandas-fundamentals\\demos\\collection-master\\artworks\\a\\013\\a01300-69430.json\n",
      "gettting  ./course-files\\pandas-fundamentals\\demos\\collection-master\\artworks\\a\\014\\a01400-69530.json\n",
      "gettting  ./course-files\\pandas-fundamentals\\demos\\collection-master\\artworks\\a\\015\\a01500-69630.json\n",
      "gettting  ./course-files\\pandas-fundamentals\\demos\\collection-master\\artworks\\a\\016\\a01600-69730.json\n",
      "gettting  ./course-files\\pandas-fundamentals\\demos\\collection-master\\artworks\\a\\017\\a01700-69830.json\n",
      "gettting  ./course-files\\pandas-fundamentals\\demos\\collection-master\\artworks\\ar\\000\\ar00001-98171.json\n",
      "gettting  ./course-files\\pandas-fundamentals\\demos\\collection-master\\artworks\\ar\\001\\ar00100-98537.json\n",
      "gettting  ./course-files\\pandas-fundamentals\\demos\\collection-master\\artworks\\ar\\002\\ar00200-97256.json\n",
      "gettting  ./course-files\\pandas-fundamentals\\demos\\collection-master\\artworks\\ar\\003\\ar00300-97551.json\n",
      "gettting  ./course-files\\pandas-fundamentals\\demos\\collection-master\\artworks\\ar\\004\\ar00400-99037.json\n",
      "gettting  ./course-files\\pandas-fundamentals\\demos\\collection-master\\artworks\\ar\\005\\ar00500-98345.json\n",
      "gettting  ./course-files\\pandas-fundamentals\\demos\\collection-master\\artworks\\ar\\006\\ar00600-99125.json\n",
      "gettting  ./course-files\\pandas-fundamentals\\demos\\collection-master\\artworks\\ar\\007\\ar00700-99132.json\n",
      "gettting  ./course-files\\pandas-fundamentals\\demos\\collection-master\\artworks\\ar\\008\\ar00800-105706.json\n",
      "gettting  ./course-files\\pandas-fundamentals\\demos\\collection-master\\artworks\\ar\\009\\ar00900-105826.json\n",
      "gettting  ./course-files\\pandas-fundamentals\\demos\\collection-master\\artworks\\ar\\010\\ar01000-105944.json\n",
      "gettting  ./course-files\\pandas-fundamentals\\demos\\collection-master\\artworks\\ar\\011\\ar01100-106055.json\n",
      "gettting  ./course-files\\pandas-fundamentals\\demos\\collection-master\\artworks\\d\\000\\d00001-27417.json\n",
      "gettting  ./course-files\\pandas-fundamentals\\demos\\collection-master\\artworks\\d\\001\\d00100-27516.json\n",
      "gettting  ./course-files\\pandas-fundamentals\\demos\\collection-master\\artworks\\d\\002\\d00200-27616.json\n",
      "gettting  ./course-files\\pandas-fundamentals\\demos\\collection-master\\artworks\\d\\003\\d00300-27716.json\n",
      "gettting  ./course-files\\pandas-fundamentals\\demos\\collection-master\\artworks\\d\\004\\d00400-27815.json\n",
      "gettting  ./course-files\\pandas-fundamentals\\demos\\collection-master\\artworks\\d\\005\\d00500-27915.json\n",
      "gettting  ./course-files\\pandas-fundamentals\\demos\\collection-master\\artworks\\d\\006\\d00601-28016.json\n",
      "gettting  ./course-files\\pandas-fundamentals\\demos\\collection-master\\artworks\\d\\007\\d00700-28115.json\n",
      "gettting  ./course-files\\pandas-fundamentals\\demos\\collection-master\\artworks\\d\\008\\d00800-28213.json\n",
      "gettting  ./course-files\\pandas-fundamentals\\demos\\collection-master\\artworks\\d\\009\\d00900-28312.json\n",
      "gettting  ./course-files\\pandas-fundamentals\\demos\\collection-master\\artworks\\d\\010\\d01000-28411.json\n",
      "gettting  ./course-files\\pandas-fundamentals\\demos\\collection-master\\artworks\\d\\011\\d01100-28511.json\n",
      "gettting  ./course-files\\pandas-fundamentals\\demos\\collection-master\\artworks\\d\\012\\d01200-28609.json\n",
      "gettting  ./course-files\\pandas-fundamentals\\demos\\collection-master\\artworks\\d\\013\\d01300-28707.json\n",
      "gettting  ./course-files\\pandas-fundamentals\\demos\\collection-master\\artworks\\d\\014\\d01400-28807.json\n",
      "gettting  ./course-files\\pandas-fundamentals\\demos\\collection-master\\artworks\\d\\015\\d01500-28906.json\n",
      "gettting  ./course-files\\pandas-fundamentals\\demos\\collection-master\\artworks\\d\\016\\d01600-29006.json\n",
      "gettting  ./course-files\\pandas-fundamentals\\demos\\collection-master\\artworks\\d\\017\\d01700-29105.json\n",
      "gettting  ./course-files\\pandas-fundamentals\\demos\\collection-master\\artworks\\d\\018\\d01800-29205.json\n",
      "gettting  ./course-files\\pandas-fundamentals\\demos\\collection-master\\artworks\\d\\019\\d01900-29304.json\n",
      "gettting  ./course-files\\pandas-fundamentals\\demos\\collection-master\\artworks\\d\\020\\d02000-29403.json\n",
      "gettting  ./course-files\\pandas-fundamentals\\demos\\collection-master\\artworks\\d\\021\\d02100-29503.json\n",
      "gettting  ./course-files\\pandas-fundamentals\\demos\\collection-master\\artworks\\d\\022\\d02200-29603.json\n",
      "gettting  ./course-files\\pandas-fundamentals\\demos\\collection-master\\artworks\\d\\023\\d02300-29703.json\n",
      "gettting  ./course-files\\pandas-fundamentals\\demos\\collection-master\\artworks\\d\\024\\d02400-29803.json\n",
      "gettting  ./course-files\\pandas-fundamentals\\demos\\collection-master\\artworks\\d\\025\\d02500-29903.json\n",
      "gettting  ./course-files\\pandas-fundamentals\\demos\\collection-master\\artworks\\d\\026\\d02600-30003.json\n",
      "gettting  ./course-files\\pandas-fundamentals\\demos\\collection-master\\artworks\\d\\027\\d02700-30103.json\n",
      "gettting  ./course-files\\pandas-fundamentals\\demos\\collection-master\\artworks\\d\\028\\d02800-30203.json\n",
      "gettting  ./course-files\\pandas-fundamentals\\demos\\collection-master\\artworks\\d\\029\\d02900-30303.json\n",
      "gettting  ./course-files\\pandas-fundamentals\\demos\\collection-master\\artworks\\d\\030\\d03000-30396.json\n",
      "gettting  ./course-files\\pandas-fundamentals\\demos\\collection-master\\artworks\\d\\031\\d03100-30496.json\n",
      "gettting  ./course-files\\pandas-fundamentals\\demos\\collection-master\\artworks\\d\\032\\d03200-30596.json\n",
      "gettting  ./course-files\\pandas-fundamentals\\demos\\collection-master\\artworks\\d\\033\\d03300-30696.json\n",
      "gettting  ./course-files\\pandas-fundamentals\\demos\\collection-master\\artworks\\d\\034\\d03400-30796.json\n",
      "gettting  ./course-files\\pandas-fundamentals\\demos\\collection-master\\artworks\\d\\035\\d03500-30896.json\n",
      "gettting  ./course-files\\pandas-fundamentals\\demos\\collection-master\\artworks\\d\\036\\d03600-30996.json\n",
      "gettting  ./course-files\\pandas-fundamentals\\demos\\collection-master\\artworks\\d\\037\\d03700-31096.json\n",
      "gettting  ./course-files\\pandas-fundamentals\\demos\\collection-master\\artworks\\d\\038\\d03800-31196.json\n",
      "gettting  ./course-files\\pandas-fundamentals\\demos\\collection-master\\artworks\\d\\039\\d03900-31295.json\n",
      "gettting  ./course-files\\pandas-fundamentals\\demos\\collection-master\\artworks\\d\\040\\d04000-31395.json\n",
      "gettting  ./course-files\\pandas-fundamentals\\demos\\collection-master\\artworks\\d\\041\\d04100-31495.json\n",
      "gettting  ./course-files\\pandas-fundamentals\\demos\\collection-master\\artworks\\d\\042\\d04200-31593.json\n",
      "gettting  ./course-files\\pandas-fundamentals\\demos\\collection-master\\artworks\\d\\043\\d04300-31693.json\n",
      "gettting  ./course-files\\pandas-fundamentals\\demos\\collection-master\\artworks\\d\\044\\d04400-31793.json\n",
      "gettting  ./course-files\\pandas-fundamentals\\demos\\collection-master\\artworks\\d\\045\\d04500-31893.json\n",
      "gettting  ./course-files\\pandas-fundamentals\\demos\\collection-master\\artworks\\d\\046\\d04600-31993.json\n",
      "gettting  ./course-files\\pandas-fundamentals\\demos\\collection-master\\artworks\\d\\047\\d04700-32093.json\n",
      "gettting  ./course-files\\pandas-fundamentals\\demos\\collection-master\\artworks\\d\\048\\d04800-32193.json\n",
      "gettting  ./course-files\\pandas-fundamentals\\demos\\collection-master\\artworks\\d\\049\\d04900-32292.json\n",
      "gettting  ./course-files\\pandas-fundamentals\\demos\\collection-master\\artworks\\d\\050\\d05000-32392.json\n",
      "gettting  ./course-files\\pandas-fundamentals\\demos\\collection-master\\artworks\\d\\051\\d05100-32492.json\n",
      "gettting  ./course-files\\pandas-fundamentals\\demos\\collection-master\\artworks\\d\\052\\d05200-32592.json\n",
      "gettting  ./course-files\\pandas-fundamentals\\demos\\collection-master\\artworks\\d\\053\\d05300-32692.json\n",
      "gettting  ./course-files\\pandas-fundamentals\\demos\\collection-master\\artworks\\d\\054\\d05400-32792.json\n",
      "gettting  ./course-files\\pandas-fundamentals\\demos\\collection-master\\artworks\\d\\055\\d05500-32892.json\n",
      "gettting  ./course-files\\pandas-fundamentals\\demos\\collection-master\\artworks\\d\\056\\d05600-32992.json\n",
      "gettting  ./course-files\\pandas-fundamentals\\demos\\collection-master\\artworks\\d\\057\\d05700-33092.json\n",
      "gettting  ./course-files\\pandas-fundamentals\\demos\\collection-master\\artworks\\d\\058\\d05800-33192.json\n",
      "gettting  ./course-files\\pandas-fundamentals\\demos\\collection-master\\artworks\\d\\059\\d05900-33291.json\n",
      "gettting  ./course-files\\pandas-fundamentals\\demos\\collection-master\\artworks\\d\\060\\d06000-33391.json\n",
      "gettting  ./course-files\\pandas-fundamentals\\demos\\collection-master\\artworks\\d\\061\\d06100-33491.json\n",
      "gettting  ./course-files\\pandas-fundamentals\\demos\\collection-master\\artworks\\d\\062\\d06200-33591.json\n",
      "gettting  ./course-files\\pandas-fundamentals\\demos\\collection-master\\artworks\\d\\063\\d06300-33691.json\n",
      "gettting  ./course-files\\pandas-fundamentals\\demos\\collection-master\\artworks\\d\\064\\d06400-33791.json\n",
      "gettting  ./course-files\\pandas-fundamentals\\demos\\collection-master\\artworks\\d\\065\\d06500-33891.json\n",
      "gettting  ./course-files\\pandas-fundamentals\\demos\\collection-master\\artworks\\d\\066\\d06600-33991.json\n",
      "gettting  ./course-files\\pandas-fundamentals\\demos\\collection-master\\artworks\\d\\067\\d06700-34091.json\n",
      "gettting  ./course-files\\pandas-fundamentals\\demos\\collection-master\\artworks\\d\\068\\d06800-34190.json\n",
      "gettting  ./course-files\\pandas-fundamentals\\demos\\collection-master\\artworks\\d\\069\\d06900-34290.json\n",
      "gettting  ./course-files\\pandas-fundamentals\\demos\\collection-master\\artworks\\d\\070\\d07000-34390.json\n",
      "gettting  ./course-files\\pandas-fundamentals\\demos\\collection-master\\artworks\\d\\071\\d07100-34490.json\n",
      "gettting  ./course-files\\pandas-fundamentals\\demos\\collection-master\\artworks\\d\\072\\d07201-34590.json\n",
      "gettting  ./course-files\\pandas-fundamentals\\demos\\collection-master\\artworks\\d\\073\\d07300-34689.json\n",
      "gettting  ./course-files\\pandas-fundamentals\\demos\\collection-master\\artworks\\d\\074\\d07400-34789.json\n",
      "gettting  ./course-files\\pandas-fundamentals\\demos\\collection-master\\artworks\\d\\075\\d07500-34889.json\n",
      "gettting  ./course-files\\pandas-fundamentals\\demos\\collection-master\\artworks\\d\\076\\d07600-34989.json\n",
      "gettting  ./course-files\\pandas-fundamentals\\demos\\collection-master\\artworks\\d\\077\\d07700-35089.json\n",
      "gettting  ./course-files\\pandas-fundamentals\\demos\\collection-master\\artworks\\d\\078\\d07800-35189.json\n",
      "gettting  ./course-files\\pandas-fundamentals\\demos\\collection-master\\artworks\\d\\079\\d07900-35289.json\n",
      "gettting  ./course-files\\pandas-fundamentals\\demos\\collection-master\\artworks\\d\\080\\d08000-35389.json\n",
      "gettting  ./course-files\\pandas-fundamentals\\demos\\collection-master\\artworks\\d\\081\\d08100-35489.json\n",
      "gettting  ./course-files\\pandas-fundamentals\\demos\\collection-master\\artworks\\d\\082\\d08200-35589.json\n",
      "gettting  ./course-files\\pandas-fundamentals\\demos\\collection-master\\artworks\\d\\083\\d08300-35689.json\n",
      "gettting  ./course-files\\pandas-fundamentals\\demos\\collection-master\\artworks\\d\\084\\d08400-35787.json\n",
      "gettting  ./course-files\\pandas-fundamentals\\demos\\collection-master\\artworks\\d\\085\\d08500-35887.json\n",
      "gettting  ./course-files\\pandas-fundamentals\\demos\\collection-master\\artworks\\d\\086\\d08600-35987.json\n",
      "gettting  ./course-files\\pandas-fundamentals\\demos\\collection-master\\artworks\\d\\087\\d08700-36087.json\n",
      "gettting  ./course-files\\pandas-fundamentals\\demos\\collection-master\\artworks\\d\\088\\d08800-36187.json\n",
      "gettting  ./course-files\\pandas-fundamentals\\demos\\collection-master\\artworks\\d\\089\\d08900-36281.json\n",
      "gettting  ./course-files\\pandas-fundamentals\\demos\\collection-master\\artworks\\d\\090\\d09000-36379.json\n",
      "gettting  ./course-files\\pandas-fundamentals\\demos\\collection-master\\artworks\\d\\091\\d09100-36479.json\n",
      "gettting  ./course-files\\pandas-fundamentals\\demos\\collection-master\\artworks\\d\\092\\d09200-36579.json\n",
      "gettting  ./course-files\\pandas-fundamentals\\demos\\collection-master\\artworks\\d\\093\\d09300-36679.json\n",
      "gettting  ./course-files\\pandas-fundamentals\\demos\\collection-master\\artworks\\d\\094\\d09400-36779.json\n",
      "gettting  ./course-files\\pandas-fundamentals\\demos\\collection-master\\artworks\\d\\095\\d09500-36879.json\n",
      "gettting  ./course-files\\pandas-fundamentals\\demos\\collection-master\\artworks\\d\\096\\d09600-36979.json\n",
      "gettting  ./course-files\\pandas-fundamentals\\demos\\collection-master\\artworks\\d\\097\\d09700-37079.json\n",
      "gettting  ./course-files\\pandas-fundamentals\\demos\\collection-master\\artworks\\d\\098\\d09800-37179.json\n",
      "gettting  ./course-files\\pandas-fundamentals\\demos\\collection-master\\artworks\\d\\099\\d09900-37278.json\n",
      "gettting  ./course-files\\pandas-fundamentals\\demos\\collection-master\\artworks\\d\\100\\d10000-37378.json\n",
      "gettting  ./course-files\\pandas-fundamentals\\demos\\collection-master\\artworks\\d\\101\\d10100-37478.json\n",
      "gettting  ./course-files\\pandas-fundamentals\\demos\\collection-master\\artworks\\d\\102\\d10200-37578.json\n",
      "gettting  ./course-files\\pandas-fundamentals\\demos\\collection-master\\artworks\\d\\103\\d10300-37677.json\n",
      "gettting  ./course-files\\pandas-fundamentals\\demos\\collection-master\\artworks\\d\\104\\d10400-37776.json\n",
      "gettting  ./course-files\\pandas-fundamentals\\demos\\collection-master\\artworks\\d\\105\\d10500-37876.json\n",
      "gettting  ./course-files\\pandas-fundamentals\\demos\\collection-master\\artworks\\d\\106\\d10600-37975.json\n",
      "gettting  ./course-files\\pandas-fundamentals\\demos\\collection-master\\artworks\\d\\107\\d10700-38075.json\n",
      "gettting  ./course-files\\pandas-fundamentals\\demos\\collection-master\\artworks\\d\\108\\d10800-38175.json\n",
      "gettting  ./course-files\\pandas-fundamentals\\demos\\collection-master\\artworks\\d\\109\\d10900-38275.json\n",
      "gettting  ./course-files\\pandas-fundamentals\\demos\\collection-master\\artworks\\d\\110\\d11000-38375.json\n",
      "gettting  ./course-files\\pandas-fundamentals\\demos\\collection-master\\artworks\\d\\111\\d11100-38475.json\n",
      "gettting  ./course-files\\pandas-fundamentals\\demos\\collection-master\\artworks\\d\\112\\d11200-38575.json\n",
      "gettting  ./course-files\\pandas-fundamentals\\demos\\collection-master\\artworks\\d\\113\\d11300-38675.json\n",
      "gettting  ./course-files\\pandas-fundamentals\\demos\\collection-master\\artworks\\d\\114\\d11400-38775.json\n",
      "gettting  ./course-files\\pandas-fundamentals\\demos\\collection-master\\artworks\\d\\115\\d11500-38874.json\n",
      "gettting  ./course-files\\pandas-fundamentals\\demos\\collection-master\\artworks\\d\\116\\d11600-38974.json\n",
      "gettting  ./course-files\\pandas-fundamentals\\demos\\collection-master\\artworks\\d\\117\\d11700-39074.json\n",
      "gettting  ./course-files\\pandas-fundamentals\\demos\\collection-master\\artworks\\d\\118\\d11800-39174.json\n",
      "gettting  ./course-files\\pandas-fundamentals\\demos\\collection-master\\artworks\\d\\119\\d11900-39274.json\n",
      "gettting  ./course-files\\pandas-fundamentals\\demos\\collection-master\\artworks\\d\\120\\d12000-39369.json\n",
      "gettting  ./course-files\\pandas-fundamentals\\demos\\collection-master\\artworks\\d\\121\\d12100-39469.json\n",
      "gettting  ./course-files\\pandas-fundamentals\\demos\\collection-master\\artworks\\d\\122\\d12200-39569.json\n",
      "gettting  ./course-files\\pandas-fundamentals\\demos\\collection-master\\artworks\\d\\123\\d12300-39668.json\n",
      "gettting  ./course-files\\pandas-fundamentals\\demos\\collection-master\\artworks\\d\\124\\d12400-39768.json\n",
      "gettting  ./course-files\\pandas-fundamentals\\demos\\collection-master\\artworks\\d\\125\\d12500-39868.json\n",
      "gettting  ./course-files\\pandas-fundamentals\\demos\\collection-master\\artworks\\d\\126\\d12600-39968.json\n",
      "gettting  ./course-files\\pandas-fundamentals\\demos\\collection-master\\artworks\\d\\127\\d12700-40068.json\n",
      "gettting  ./course-files\\pandas-fundamentals\\demos\\collection-master\\artworks\\d\\128\\d12800-40168.json\n",
      "gettting  ./course-files\\pandas-fundamentals\\demos\\collection-master\\artworks\\d\\129\\d12900-40268.json\n",
      "gettting  ./course-files\\pandas-fundamentals\\demos\\collection-master\\artworks\\d\\130\\d13000-40368.json\n",
      "gettting  ./course-files\\pandas-fundamentals\\demos\\collection-master\\artworks\\d\\131\\d13100-40468.json\n",
      "gettting  ./course-files\\pandas-fundamentals\\demos\\collection-master\\artworks\\d\\132\\d13200-40568.json\n",
      "gettting  ./course-files\\pandas-fundamentals\\demos\\collection-master\\artworks\\d\\133\\d13300-40668.json\n",
      "gettting  ./course-files\\pandas-fundamentals\\demos\\collection-master\\artworks\\d\\134\\d13400-40768.json\n",
      "gettting  ./course-files\\pandas-fundamentals\\demos\\collection-master\\artworks\\d\\135\\d13500-40868.json\n",
      "gettting  ./course-files\\pandas-fundamentals\\demos\\collection-master\\artworks\\d\\136\\d13600-40968.json\n",
      "gettting  ./course-files\\pandas-fundamentals\\demos\\collection-master\\artworks\\d\\137\\d13700-41067.json\n",
      "gettting  ./course-files\\pandas-fundamentals\\demos\\collection-master\\artworks\\d\\138\\d13800-41167.json\n",
      "gettting  ./course-files\\pandas-fundamentals\\demos\\collection-master\\artworks\\d\\139\\d13900-41266.json\n",
      "gettting  ./course-files\\pandas-fundamentals\\demos\\collection-master\\artworks\\d\\140\\d14000-41363.json\n",
      "gettting  ./course-files\\pandas-fundamentals\\demos\\collection-master\\artworks\\d\\141\\d14100-41463.json\n",
      "gettting  ./course-files\\pandas-fundamentals\\demos\\collection-master\\artworks\\d\\142\\d14200-41563.json\n",
      "gettting  ./course-files\\pandas-fundamentals\\demos\\collection-master\\artworks\\d\\143\\d14300-41663.json\n",
      "gettting  ./course-files\\pandas-fundamentals\\demos\\collection-master\\artworks\\d\\144\\d14400-41763.json\n",
      "gettting  ./course-files\\pandas-fundamentals\\demos\\collection-master\\artworks\\d\\145\\d14500-41862.json\n",
      "gettting  ./course-files\\pandas-fundamentals\\demos\\collection-master\\artworks\\d\\146\\d14600-41962.json\n",
      "gettting  ./course-files\\pandas-fundamentals\\demos\\collection-master\\artworks\\d\\147\\d14700-42062.json\n",
      "gettting  ./course-files\\pandas-fundamentals\\demos\\collection-master\\artworks\\d\\148\\d14800-42162.json\n",
      "gettting  ./course-files\\pandas-fundamentals\\demos\\collection-master\\artworks\\d\\149\\d14900-42258.json\n",
      "gettting  ./course-files\\pandas-fundamentals\\demos\\collection-master\\artworks\\d\\150\\d15000-42357.json\n",
      "gettting  ./course-files\\pandas-fundamentals\\demos\\collection-master\\artworks\\d\\151\\d15100-42456.json\n",
      "gettting  ./course-files\\pandas-fundamentals\\demos\\collection-master\\artworks\\d\\152\\d15200-42556.json\n",
      "gettting  ./course-files\\pandas-fundamentals\\demos\\collection-master\\artworks\\d\\153\\d15300-42656.json\n",
      "gettting  ./course-files\\pandas-fundamentals\\demos\\collection-master\\artworks\\d\\154\\d15400-42756.json\n",
      "gettting  ./course-files\\pandas-fundamentals\\demos\\collection-master\\artworks\\d\\155\\d15500-42856.json\n",
      "gettting  ./course-files\\pandas-fundamentals\\demos\\collection-master\\artworks\\d\\156\\d15600-42956.json\n",
      "gettting  ./course-files\\pandas-fundamentals\\demos\\collection-master\\artworks\\d\\157\\d15700-43056.json\n",
      "gettting  ./course-files\\pandas-fundamentals\\demos\\collection-master\\artworks\\d\\158\\d15800-43156.json\n",
      "gettting  ./course-files\\pandas-fundamentals\\demos\\collection-master\\artworks\\d\\159\\d15900-43256.json\n",
      "gettting  ./course-files\\pandas-fundamentals\\demos\\collection-master\\artworks\\d\\160\\d16000-43356.json\n",
      "gettting  ./course-files\\pandas-fundamentals\\demos\\collection-master\\artworks\\d\\161\\d16100-43456.json\n",
      "gettting  ./course-files\\pandas-fundamentals\\demos\\collection-master\\artworks\\d\\162\\d16200-43556.json\n",
      "gettting  ./course-files\\pandas-fundamentals\\demos\\collection-master\\artworks\\d\\163\\d16300-43656.json\n",
      "gettting  ./course-files\\pandas-fundamentals\\demos\\collection-master\\artworks\\d\\164\\d16400-43756.json\n",
      "gettting  ./course-files\\pandas-fundamentals\\demos\\collection-master\\artworks\\d\\165\\d16500-43856.json\n",
      "gettting  ./course-files\\pandas-fundamentals\\demos\\collection-master\\artworks\\d\\166\\d16600-43956.json\n",
      "gettting  ./course-files\\pandas-fundamentals\\demos\\collection-master\\artworks\\d\\167\\d16700-44056.json\n",
      "gettting  ./course-files\\pandas-fundamentals\\demos\\collection-master\\artworks\\d\\168\\d16800-44156.json\n",
      "gettting  ./course-files\\pandas-fundamentals\\demos\\collection-master\\artworks\\d\\169\\d16900-44256.json\n",
      "gettting  ./course-files\\pandas-fundamentals\\demos\\collection-master\\artworks\\d\\170\\d17000-44356.json\n",
      "gettting  ./course-files\\pandas-fundamentals\\demos\\collection-master\\artworks\\d\\171\\d17100-44456.json\n",
      "gettting  ./course-files\\pandas-fundamentals\\demos\\collection-master\\artworks\\d\\172\\d17200-44556.json\n",
      "gettting  ./course-files\\pandas-fundamentals\\demos\\collection-master\\artworks\\d\\173\\d17300-44656.json\n",
      "gettting  ./course-files\\pandas-fundamentals\\demos\\collection-master\\artworks\\d\\174\\d17400-44756.json\n",
      "gettting  ./course-files\\pandas-fundamentals\\demos\\collection-master\\artworks\\d\\175\\d17500-44856.json\n",
      "gettting  ./course-files\\pandas-fundamentals\\demos\\collection-master\\artworks\\d\\176\\d17600-44956.json\n",
      "gettting  ./course-files\\pandas-fundamentals\\demos\\collection-master\\artworks\\d\\177\\d17700-45056.json\n",
      "gettting  ./course-files\\pandas-fundamentals\\demos\\collection-master\\artworks\\d\\178\\d17800-45155.json\n",
      "gettting  ./course-files\\pandas-fundamentals\\demos\\collection-master\\artworks\\d\\179\\d17900-45255.json\n",
      "gettting  ./course-files\\pandas-fundamentals\\demos\\collection-master\\artworks\\d\\180\\d18000-45355.json\n",
      "gettting  ./course-files\\pandas-fundamentals\\demos\\collection-master\\artworks\\d\\181\\d18100-45455.json\n",
      "gettting  ./course-files\\pandas-fundamentals\\demos\\collection-master\\artworks\\d\\182\\d18200-45555.json\n",
      "gettting  ./course-files\\pandas-fundamentals\\demos\\collection-master\\artworks\\d\\183\\d18300-45655.json\n",
      "gettting  ./course-files\\pandas-fundamentals\\demos\\collection-master\\artworks\\d\\184\\d18400-45755.json\n",
      "gettting  ./course-files\\pandas-fundamentals\\demos\\collection-master\\artworks\\d\\185\\d18500-45853.json\n",
      "gettting  ./course-files\\pandas-fundamentals\\demos\\collection-master\\artworks\\d\\186\\d18600-45953.json\n",
      "gettting  ./course-files\\pandas-fundamentals\\demos\\collection-master\\artworks\\d\\187\\d18700-46053.json\n",
      "gettting  ./course-files\\pandas-fundamentals\\demos\\collection-master\\artworks\\d\\188\\d18800-46153.json\n",
      "gettting  ./course-files\\pandas-fundamentals\\demos\\collection-master\\artworks\\d\\189\\d18900-46253.json\n",
      "gettting  ./course-files\\pandas-fundamentals\\demos\\collection-master\\artworks\\d\\190\\d19000-46353.json\n",
      "gettting  ./course-files\\pandas-fundamentals\\demos\\collection-master\\artworks\\d\\191\\d19100-46453.json\n",
      "gettting  ./course-files\\pandas-fundamentals\\demos\\collection-master\\artworks\\d\\192\\d19200-46553.json\n",
      "gettting  ./course-files\\pandas-fundamentals\\demos\\collection-master\\artworks\\d\\193\\d19300-46653.json\n",
      "gettting  ./course-files\\pandas-fundamentals\\demos\\collection-master\\artworks\\d\\194\\d19400-46753.json\n",
      "gettting  ./course-files\\pandas-fundamentals\\demos\\collection-master\\artworks\\d\\195\\d19500-46853.json\n",
      "gettting  ./course-files\\pandas-fundamentals\\demos\\collection-master\\artworks\\d\\196\\d19600-46953.json\n",
      "gettting  ./course-files\\pandas-fundamentals\\demos\\collection-master\\artworks\\d\\197\\d19700-47053.json\n",
      "gettting  ./course-files\\pandas-fundamentals\\demos\\collection-master\\artworks\\d\\198\\d19800-47153.json\n",
      "gettting  ./course-files\\pandas-fundamentals\\demos\\collection-master\\artworks\\d\\199\\d19900-47253.json\n",
      "gettting  ./course-files\\pandas-fundamentals\\demos\\collection-master\\artworks\\d\\200\\d20000-47352.json\n",
      "gettting  ./course-files\\pandas-fundamentals\\demos\\collection-master\\artworks\\d\\201\\d20100-47452.json\n",
      "gettting  ./course-files\\pandas-fundamentals\\demos\\collection-master\\artworks\\d\\202\\d20200-47552.json\n",
      "gettting  ./course-files\\pandas-fundamentals\\demos\\collection-master\\artworks\\d\\203\\d20308-47660.json\n",
      "gettting  ./course-files\\pandas-fundamentals\\demos\\collection-master\\artworks\\d\\204\\d20401-47752.json\n",
      "gettting  ./course-files\\pandas-fundamentals\\demos\\collection-master\\artworks\\d\\205\\d20500-47851.json\n",
      "gettting  ./course-files\\pandas-fundamentals\\demos\\collection-master\\artworks\\d\\206\\d20600-47951.json\n",
      "gettting  ./course-files\\pandas-fundamentals\\demos\\collection-master\\artworks\\d\\207\\d20700-48051.json\n",
      "gettting  ./course-files\\pandas-fundamentals\\demos\\collection-master\\artworks\\d\\208\\d20800-48143.json\n",
      "gettting  ./course-files\\pandas-fundamentals\\demos\\collection-master\\artworks\\d\\209\\d20900-48243.json\n",
      "gettting  ./course-files\\pandas-fundamentals\\demos\\collection-master\\artworks\\d\\210\\d21000-48343.json\n",
      "gettting  ./course-files\\pandas-fundamentals\\demos\\collection-master\\artworks\\d\\211\\d21100-48443.json\n",
      "gettting  ./course-files\\pandas-fundamentals\\demos\\collection-master\\artworks\\d\\212\\d21200-48543.json\n",
      "gettting  ./course-files\\pandas-fundamentals\\demos\\collection-master\\artworks\\d\\213\\d21300-48643.json\n",
      "gettting  ./course-files\\pandas-fundamentals\\demos\\collection-master\\artworks\\d\\214\\d21400-48743.json\n",
      "gettting  ./course-files\\pandas-fundamentals\\demos\\collection-master\\artworks\\d\\215\\d21500-48843.json\n",
      "gettting  ./course-files\\pandas-fundamentals\\demos\\collection-master\\artworks\\d\\216\\d21600-48942.json\n",
      "gettting  ./course-files\\pandas-fundamentals\\demos\\collection-master\\artworks\\d\\217\\d21700-49042.json\n",
      "gettting  ./course-files\\pandas-fundamentals\\demos\\collection-master\\artworks\\d\\218\\d21800-49142.json\n",
      "gettting  ./course-files\\pandas-fundamentals\\demos\\collection-master\\artworks\\d\\219\\d21900-49241.json\n",
      "gettting  ./course-files\\pandas-fundamentals\\demos\\collection-master\\artworks\\d\\220\\d22000-49339.json\n",
      "gettting  ./course-files\\pandas-fundamentals\\demos\\collection-master\\artworks\\d\\221\\d22100-49438.json\n",
      "gettting  ./course-files\\pandas-fundamentals\\demos\\collection-master\\artworks\\d\\222\\d22200-49538.json\n",
      "gettting  ./course-files\\pandas-fundamentals\\demos\\collection-master\\artworks\\d\\223\\d22300-49638.json\n",
      "gettting  ./course-files\\pandas-fundamentals\\demos\\collection-master\\artworks\\d\\224\\d22400-49738.json\n",
      "gettting  ./course-files\\pandas-fundamentals\\demos\\collection-master\\artworks\\d\\225\\d22500-49838.json\n",
      "gettting  ./course-files\\pandas-fundamentals\\demos\\collection-master\\artworks\\d\\226\\d22600-49938.json\n",
      "gettting  ./course-files\\pandas-fundamentals\\demos\\collection-master\\artworks\\d\\227\\d22700-50037.json\n",
      "gettting  ./course-files\\pandas-fundamentals\\demos\\collection-master\\artworks\\d\\228\\d22800-50137.json\n",
      "gettting  ./course-files\\pandas-fundamentals\\demos\\collection-master\\artworks\\d\\229\\d22900-50237.json\n",
      "gettting  ./course-files\\pandas-fundamentals\\demos\\collection-master\\artworks\\d\\230\\d23000-50337.json\n",
      "gettting  ./course-files\\pandas-fundamentals\\demos\\collection-master\\artworks\\d\\231\\d23100-50437.json\n",
      "gettting  ./course-files\\pandas-fundamentals\\demos\\collection-master\\artworks\\d\\232\\d23200-50537.json\n",
      "gettting  ./course-files\\pandas-fundamentals\\demos\\collection-master\\artworks\\d\\233\\d23300-50637.json\n",
      "gettting  ./course-files\\pandas-fundamentals\\demos\\collection-master\\artworks\\d\\234\\d23400-50737.json\n",
      "gettting  ./course-files\\pandas-fundamentals\\demos\\collection-master\\artworks\\d\\235\\d23500-50837.json\n",
      "gettting  ./course-files\\pandas-fundamentals\\demos\\collection-master\\artworks\\d\\236\\d23600-50937.json\n",
      "gettting  ./course-files\\pandas-fundamentals\\demos\\collection-master\\artworks\\d\\237\\d23700-51037.json\n",
      "gettting  ./course-files\\pandas-fundamentals\\demos\\collection-master\\artworks\\d\\238\\d23800-51137.json\n",
      "gettting  ./course-files\\pandas-fundamentals\\demos\\collection-master\\artworks\\d\\239\\d23900-51237.json\n",
      "gettting  ./course-files\\pandas-fundamentals\\demos\\collection-master\\artworks\\d\\240\\d24000-51337.json\n",
      "gettting  ./course-files\\pandas-fundamentals\\demos\\collection-master\\artworks\\d\\241\\d24100-51437.json\n",
      "gettting  ./course-files\\pandas-fundamentals\\demos\\collection-master\\artworks\\d\\242\\d24200-51537.json\n",
      "gettting  ./course-files\\pandas-fundamentals\\demos\\collection-master\\artworks\\d\\243\\d24300-51637.json\n",
      "gettting  ./course-files\\pandas-fundamentals\\demos\\collection-master\\artworks\\d\\244\\d24400-51737.json\n",
      "gettting  ./course-files\\pandas-fundamentals\\demos\\collection-master\\artworks\\d\\245\\d24500-51837.json\n",
      "gettting  ./course-files\\pandas-fundamentals\\demos\\collection-master\\artworks\\d\\246\\d24600-51937.json\n",
      "gettting  ./course-files\\pandas-fundamentals\\demos\\collection-master\\artworks\\d\\247\\d24700-52037.json\n",
      "gettting  ./course-files\\pandas-fundamentals\\demos\\collection-master\\artworks\\d\\248\\d24800-52137.json\n",
      "gettting  ./course-files\\pandas-fundamentals\\demos\\collection-master\\artworks\\d\\249\\d24900-52237.json\n",
      "gettting  ./course-files\\pandas-fundamentals\\demos\\collection-master\\artworks\\d\\250\\d25000-52337.json\n",
      "gettting  ./course-files\\pandas-fundamentals\\demos\\collection-master\\artworks\\d\\251\\d25100-52437.json\n",
      "gettting  ./course-files\\pandas-fundamentals\\demos\\collection-master\\artworks\\d\\252\\d25200-52537.json\n",
      "gettting  ./course-files\\pandas-fundamentals\\demos\\collection-master\\artworks\\d\\253\\d25300-52637.json\n",
      "gettting  ./course-files\\pandas-fundamentals\\demos\\collection-master\\artworks\\d\\254\\d25400-52737.json\n",
      "gettting  ./course-files\\pandas-fundamentals\\demos\\collection-master\\artworks\\d\\255\\d25500-52837.json\n",
      "gettting  ./course-files\\pandas-fundamentals\\demos\\collection-master\\artworks\\d\\256\\d25600-52937.json\n",
      "gettting  ./course-files\\pandas-fundamentals\\demos\\collection-master\\artworks\\d\\257\\d25700-53037.json\n",
      "gettting  ./course-files\\pandas-fundamentals\\demos\\collection-master\\artworks\\d\\258\\d25800-53137.json\n",
      "gettting  ./course-files\\pandas-fundamentals\\demos\\collection-master\\artworks\\d\\259\\d25900-53237.json\n",
      "gettting  ./course-files\\pandas-fundamentals\\demos\\collection-master\\artworks\\d\\260\\d26000-53337.json\n",
      "gettting  ./course-files\\pandas-fundamentals\\demos\\collection-master\\artworks\\d\\261\\d26100-53437.json\n",
      "gettting  ./course-files\\pandas-fundamentals\\demos\\collection-master\\artworks\\d\\262\\d26200-53537.json\n",
      "gettting  ./course-files\\pandas-fundamentals\\demos\\collection-master\\artworks\\d\\263\\d26300-53637.json\n",
      "gettting  ./course-files\\pandas-fundamentals\\demos\\collection-master\\artworks\\d\\264\\d26400-53737.json\n",
      "gettting  ./course-files\\pandas-fundamentals\\demos\\collection-master\\artworks\\d\\265\\d26500-53837.json\n",
      "gettting  ./course-files\\pandas-fundamentals\\demos\\collection-master\\artworks\\d\\266\\d26600-53937.json\n",
      "gettting  ./course-files\\pandas-fundamentals\\demos\\collection-master\\artworks\\d\\267\\d26700-54037.json\n",
      "gettting  ./course-files\\pandas-fundamentals\\demos\\collection-master\\artworks\\d\\268\\d26800-54137.json\n",
      "gettting  ./course-files\\pandas-fundamentals\\demos\\collection-master\\artworks\\d\\269\\d26900-54236.json\n",
      "gettting  ./course-files\\pandas-fundamentals\\demos\\collection-master\\artworks\\d\\270\\d27000-54335.json\n",
      "gettting  ./course-files\\pandas-fundamentals\\demos\\collection-master\\artworks\\d\\271\\d27100-54435.json\n",
      "gettting  ./course-files\\pandas-fundamentals\\demos\\collection-master\\artworks\\d\\272\\d27200-54535.json\n",
      "gettting  ./course-files\\pandas-fundamentals\\demos\\collection-master\\artworks\\d\\273\\d27300-54635.json\n",
      "gettting  ./course-files\\pandas-fundamentals\\demos\\collection-master\\artworks\\d\\274\\d27400-54735.json\n",
      "gettting  ./course-files\\pandas-fundamentals\\demos\\collection-master\\artworks\\d\\275\\d27500-54827.json\n",
      "gettting  ./course-files\\pandas-fundamentals\\demos\\collection-master\\artworks\\d\\276\\d27600-54927.json\n",
      "gettting  ./course-files\\pandas-fundamentals\\demos\\collection-master\\artworks\\d\\277\\d27700-55027.json\n",
      "gettting  ./course-files\\pandas-fundamentals\\demos\\collection-master\\artworks\\d\\278\\d27800-55120.json\n",
      "gettting  ./course-files\\pandas-fundamentals\\demos\\collection-master\\artworks\\d\\279\\d27900-55219.json\n",
      "gettting  ./course-files\\pandas-fundamentals\\demos\\collection-master\\artworks\\d\\280\\d28000-55319.json\n",
      "gettting  ./course-files\\pandas-fundamentals\\demos\\collection-master\\artworks\\d\\281\\d28100-55419.json\n",
      "gettting  ./course-files\\pandas-fundamentals\\demos\\collection-master\\artworks\\d\\282\\d28200-55519.json\n",
      "gettting  ./course-files\\pandas-fundamentals\\demos\\collection-master\\artworks\\d\\283\\d28300-55619.json\n",
      "gettting  ./course-files\\pandas-fundamentals\\demos\\collection-master\\artworks\\d\\284\\d28400-55719.json\n",
      "gettting  ./course-files\\pandas-fundamentals\\demos\\collection-master\\artworks\\d\\285\\d28500-55819.json\n",
      "gettting  ./course-files\\pandas-fundamentals\\demos\\collection-master\\artworks\\d\\286\\d28600-55918.json\n",
      "gettting  ./course-files\\pandas-fundamentals\\demos\\collection-master\\artworks\\d\\287\\d28700-56017.json\n",
      "gettting  ./course-files\\pandas-fundamentals\\demos\\collection-master\\artworks\\d\\288\\d28800-56117.json\n",
      "gettting  ./course-files\\pandas-fundamentals\\demos\\collection-master\\artworks\\d\\289\\d28900-56195.json\n",
      "gettting  ./course-files\\pandas-fundamentals\\demos\\collection-master\\artworks\\d\\290\\d29000-56272.json\n",
      "gettting  ./course-files\\pandas-fundamentals\\demos\\collection-master\\artworks\\d\\291\\d29100-56372.json\n",
      "gettting  ./course-files\\pandas-fundamentals\\demos\\collection-master\\artworks\\d\\292\\d29200-56471.json\n",
      "gettting  ./course-files\\pandas-fundamentals\\demos\\collection-master\\artworks\\d\\293\\d29300-56568.json\n",
      "gettting  ./course-files\\pandas-fundamentals\\demos\\collection-master\\artworks\\d\\294\\d29400-56667.json\n",
      "gettting  ./course-files\\pandas-fundamentals\\demos\\collection-master\\artworks\\d\\295\\d29500-56765.json\n",
      "gettting  ./course-files\\pandas-fundamentals\\demos\\collection-master\\artworks\\d\\296\\d29600-56862.json\n",
      "gettting  ./course-files\\pandas-fundamentals\\demos\\collection-master\\artworks\\d\\297\\d29700-56962.json\n",
      "gettting  ./course-files\\pandas-fundamentals\\demos\\collection-master\\artworks\\d\\298\\d29800-57062.json\n",
      "gettting  ./course-files\\pandas-fundamentals\\demos\\collection-master\\artworks\\d\\299\\d29900-57162.json\n",
      "gettting  ./course-files\\pandas-fundamentals\\demos\\collection-master\\artworks\\d\\300\\d30000-57260.json\n",
      "gettting  ./course-files\\pandas-fundamentals\\demos\\collection-master\\artworks\\d\\301\\d30100-57360.json\n",
      "gettting  ./course-files\\pandas-fundamentals\\demos\\collection-master\\artworks\\d\\302\\d30200-57460.json\n",
      "gettting  ./course-files\\pandas-fundamentals\\demos\\collection-master\\artworks\\d\\303\\d30300-57559.json\n",
      "gettting  ./course-files\\pandas-fundamentals\\demos\\collection-master\\artworks\\d\\304\\d30400-57655.json\n",
      "gettting  ./course-files\\pandas-fundamentals\\demos\\collection-master\\artworks\\d\\305\\d30500-57750.json\n",
      "gettting  ./course-files\\pandas-fundamentals\\demos\\collection-master\\artworks\\d\\306\\d30600-57849.json\n",
      "gettting  ./course-files\\pandas-fundamentals\\demos\\collection-master\\artworks\\d\\307\\d30700-57942.json\n",
      "gettting  ./course-files\\pandas-fundamentals\\demos\\collection-master\\artworks\\d\\308\\d30800-58041.json\n",
      "gettting  ./course-files\\pandas-fundamentals\\demos\\collection-master\\artworks\\d\\309\\d30900-58139.json\n",
      "gettting  ./course-files\\pandas-fundamentals\\demos\\collection-master\\artworks\\d\\310\\d31000-58239.json\n",
      "gettting  ./course-files\\pandas-fundamentals\\demos\\collection-master\\artworks\\d\\311\\d31100-58339.json\n",
      "gettting  ./course-files\\pandas-fundamentals\\demos\\collection-master\\artworks\\d\\312\\d31200-58436.json\n",
      "gettting  ./course-files\\pandas-fundamentals\\demos\\collection-master\\artworks\\d\\313\\d31300-58535.json\n",
      "gettting  ./course-files\\pandas-fundamentals\\demos\\collection-master\\artworks\\d\\314\\d31400-58633.json\n",
      "gettting  ./course-files\\pandas-fundamentals\\demos\\collection-master\\artworks\\d\\315\\d31500-58731.json\n",
      "gettting  ./course-files\\pandas-fundamentals\\demos\\collection-master\\artworks\\d\\316\\d31600-58824.json\n",
      "gettting  ./course-files\\pandas-fundamentals\\demos\\collection-master\\artworks\\d\\317\\d31700-58924.json\n",
      "gettting  ./course-files\\pandas-fundamentals\\demos\\collection-master\\artworks\\d\\318\\d31800-59020.json\n",
      "gettting  ./course-files\\pandas-fundamentals\\demos\\collection-master\\artworks\\d\\319\\d31900-59120.json\n",
      "gettting  ./course-files\\pandas-fundamentals\\demos\\collection-master\\artworks\\d\\320\\d32000-59219.json\n",
      "gettting  ./course-files\\pandas-fundamentals\\demos\\collection-master\\artworks\\d\\321\\d32100-59317.json\n",
      "gettting  ./course-files\\pandas-fundamentals\\demos\\collection-master\\artworks\\d\\322\\d32200-59417.json\n",
      "gettting  ./course-files\\pandas-fundamentals\\demos\\collection-master\\artworks\\d\\323\\d32301-59514.json\n",
      "gettting  ./course-files\\pandas-fundamentals\\demos\\collection-master\\artworks\\d\\324\\d32400-59613.json\n",
      "gettting  ./course-files\\pandas-fundamentals\\demos\\collection-master\\artworks\\d\\325\\d32500-59703.json\n",
      "gettting  ./course-files\\pandas-fundamentals\\demos\\collection-master\\artworks\\d\\326\\d32600-59798.json\n",
      "gettting  ./course-files\\pandas-fundamentals\\demos\\collection-master\\artworks\\d\\327\\d32700-59896.json\n",
      "gettting  ./course-files\\pandas-fundamentals\\demos\\collection-master\\artworks\\d\\328\\d32800-59992.json\n",
      "gettting  ./course-files\\pandas-fundamentals\\demos\\collection-master\\artworks\\d\\329\\d32900-60086.json\n",
      "gettting  ./course-files\\pandas-fundamentals\\demos\\collection-master\\artworks\\d\\330\\d33000-60184.json\n",
      "gettting  ./course-files\\pandas-fundamentals\\demos\\collection-master\\artworks\\d\\331\\d33100-60282.json\n",
      "gettting  ./course-files\\pandas-fundamentals\\demos\\collection-master\\artworks\\d\\332\\d33200-60379.json\n",
      "gettting  ./course-files\\pandas-fundamentals\\demos\\collection-master\\artworks\\d\\333\\d33300-60475.json\n",
      "gettting  ./course-files\\pandas-fundamentals\\demos\\collection-master\\artworks\\d\\334\\d33400-60572.json\n",
      "gettting  ./course-files\\pandas-fundamentals\\demos\\collection-master\\artworks\\d\\335\\d33500-60671.json\n",
      "gettting  ./course-files\\pandas-fundamentals\\demos\\collection-master\\artworks\\d\\336\\d33600-60771.json\n",
      "gettting  ./course-files\\pandas-fundamentals\\demos\\collection-master\\artworks\\d\\337\\d33700-60871.json\n",
      "gettting  ./course-files\\pandas-fundamentals\\demos\\collection-master\\artworks\\d\\338\\d33800-60971.json\n",
      "gettting  ./course-files\\pandas-fundamentals\\demos\\collection-master\\artworks\\d\\339\\d33900-61069.json\n",
      "gettting  ./course-files\\pandas-fundamentals\\demos\\collection-master\\artworks\\d\\340\\d34000-61168.json\n",
      "gettting  ./course-files\\pandas-fundamentals\\demos\\collection-master\\artworks\\d\\341\\d34100-61268.json\n",
      "gettting  ./course-files\\pandas-fundamentals\\demos\\collection-master\\artworks\\d\\342\\d34200-61368.json\n",
      "gettting  ./course-files\\pandas-fundamentals\\demos\\collection-master\\artworks\\d\\343\\d34300-61468.json\n",
      "gettting  ./course-files\\pandas-fundamentals\\demos\\collection-master\\artworks\\d\\344\\d34400-61568.json\n",
      "gettting  ./course-files\\pandas-fundamentals\\demos\\collection-master\\artworks\\d\\345\\d34500-61668.json\n",
      "gettting  ./course-files\\pandas-fundamentals\\demos\\collection-master\\artworks\\d\\346\\d34600-61768.json\n",
      "gettting  ./course-files\\pandas-fundamentals\\demos\\collection-master\\artworks\\d\\347\\d34700-61863.json\n",
      "gettting  ./course-files\\pandas-fundamentals\\demos\\collection-master\\artworks\\d\\348\\d34800-61955.json\n",
      "gettting  ./course-files\\pandas-fundamentals\\demos\\collection-master\\artworks\\d\\349\\d34900-62054.json\n",
      "gettting  ./course-files\\pandas-fundamentals\\demos\\collection-master\\artworks\\d\\350\\d35001-62140.json\n",
      "gettting  ./course-files\\pandas-fundamentals\\demos\\collection-master\\artworks\\d\\351\\d35100-62229.json\n",
      "gettting  ./course-files\\pandas-fundamentals\\demos\\collection-master\\artworks\\d\\352\\d35200-62328.json\n",
      "gettting  ./course-files\\pandas-fundamentals\\demos\\collection-master\\artworks\\d\\353\\d35300-62428.json\n",
      "gettting  ./course-files\\pandas-fundamentals\\demos\\collection-master\\artworks\\d\\354\\d35400-62527.json\n",
      "gettting  ./course-files\\pandas-fundamentals\\demos\\collection-master\\artworks\\d\\355\\d35500-62617.json\n",
      "gettting  ./course-files\\pandas-fundamentals\\demos\\collection-master\\artworks\\d\\356\\d35600-62710.json\n",
      "gettting  ./course-files\\pandas-fundamentals\\demos\\collection-master\\artworks\\d\\357\\d35700-62806.json\n",
      "gettting  ./course-files\\pandas-fundamentals\\demos\\collection-master\\artworks\\d\\358\\d35800-62890.json\n",
      "gettting  ./course-files\\pandas-fundamentals\\demos\\collection-master\\artworks\\d\\359\\d35900-62988.json\n",
      "gettting  ./course-files\\pandas-fundamentals\\demos\\collection-master\\artworks\\d\\360\\d36000-63088.json\n",
      "gettting  ./course-files\\pandas-fundamentals\\demos\\collection-master\\artworks\\d\\361\\d36100-63188.json\n",
      "gettting  ./course-files\\pandas-fundamentals\\demos\\collection-master\\artworks\\d\\362\\d36200-63287.json\n",
      "gettting  ./course-files\\pandas-fundamentals\\demos\\collection-master\\artworks\\d\\363\\d36300-63385.json\n",
      "gettting  ./course-files\\pandas-fundamentals\\demos\\collection-master\\artworks\\d\\364\\d36400-63485.json\n",
      "gettting  ./course-files\\pandas-fundamentals\\demos\\collection-master\\artworks\\d\\365\\d36500-63585.json\n",
      "gettting  ./course-files\\pandas-fundamentals\\demos\\collection-master\\artworks\\d\\366\\d36600-63685.json\n",
      "gettting  ./course-files\\pandas-fundamentals\\demos\\collection-master\\artworks\\d\\400\\d40000-63771.json\n",
      "gettting  ./course-files\\pandas-fundamentals\\demos\\collection-master\\artworks\\d\\401\\d40100-63868.json\n",
      "gettting  ./course-files\\pandas-fundamentals\\demos\\collection-master\\artworks\\d\\402\\d40200-63964.json\n",
      "gettting  ./course-files\\pandas-fundamentals\\demos\\collection-master\\artworks\\d\\403\\d40300-64061.json\n",
      "gettting  ./course-files\\pandas-fundamentals\\demos\\collection-master\\artworks\\d\\404\\d40407-64157.json\n",
      "gettting  ./course-files\\pandas-fundamentals\\demos\\collection-master\\artworks\\d\\405\\d40500-64250.json\n",
      "gettting  ./course-files\\pandas-fundamentals\\demos\\collection-master\\artworks\\d\\406\\d40600-64349.json\n",
      "gettting  ./course-files\\pandas-fundamentals\\demos\\collection-master\\artworks\\d\\407\\d40700-64447.json\n",
      "gettting  ./course-files\\pandas-fundamentals\\demos\\collection-master\\artworks\\d\\408\\d40800-64547.json\n",
      "gettting  ./course-files\\pandas-fundamentals\\demos\\collection-master\\artworks\\d\\409\\d40900-64647.json\n",
      "gettting  ./course-files\\pandas-fundamentals\\demos\\collection-master\\artworks\\d\\410\\d41000-64746.json\n",
      "gettting  ./course-files\\pandas-fundamentals\\demos\\collection-master\\artworks\\d\\411\\d41100-64846.json\n",
      "gettting  ./course-files\\pandas-fundamentals\\demos\\collection-master\\artworks\\d\\412\\d41200-64898.json\n",
      "gettting  ./course-files\\pandas-fundamentals\\demos\\collection-master\\artworks\\d\\413\\d41300-64998.json\n",
      "gettting  ./course-files\\pandas-fundamentals\\demos\\collection-master\\artworks\\d\\414\\d41400-65098.json\n",
      "gettting  ./course-files\\pandas-fundamentals\\demos\\collection-master\\artworks\\d\\415\\d41500-66780.json\n",
      "gettting  ./course-files\\pandas-fundamentals\\demos\\collection-master\\artworks\\n\\000\\n00079-12387.json\n",
      "gettting  ./course-files\\pandas-fundamentals\\demos\\collection-master\\artworks\\n\\001\\n00100-2786.json\n",
      "gettting  ./course-files\\pandas-fundamentals\\demos\\collection-master\\artworks\\n\\002\\n00217-13973.json\n",
      "gettting  ./course-files\\pandas-fundamentals\\demos\\collection-master\\artworks\\n\\003\\n00301-16225.json\n",
      "gettting  ./course-files\\pandas-fundamentals\\demos\\collection-master\\artworks\\n\\004\\n00400-12646.json\n",
      "gettting  ./course-files\\pandas-fundamentals\\demos\\collection-master\\artworks\\n\\005\\n00500-14759.json\n",
      "gettting  ./course-files\\pandas-fundamentals\\demos\\collection-master\\artworks\\n\\006\\n00601-1378.json\n",
      "gettting  ./course-files\\pandas-fundamentals\\demos\\collection-master\\artworks\\n\\007\\n00731-14162.json\n",
      "gettting  ./course-files\\pandas-fundamentals\\demos\\collection-master\\artworks\\n\\008\\n00800-7736.json\n",
      "gettting  ./course-files\\pandas-fundamentals\\demos\\collection-master\\artworks\\n\\009\\n00900-6705.json\n",
      "gettting  ./course-files\\pandas-fundamentals\\demos\\collection-master\\artworks\\n\\010\\n01016-8589.json\n",
      "gettting  ./course-files\\pandas-fundamentals\\demos\\collection-master\\artworks\\n\\011\\n01110-1086.json\n",
      "gettting  ./course-files\\pandas-fundamentals\\demos\\collection-master\\artworks\\n\\012\\n01205-1486.json\n",
      "gettting  ./course-files\\pandas-fundamentals\\demos\\collection-master\\artworks\\n\\013\\n01306-724.json\n",
      "gettting  ./course-files\\pandas-fundamentals\\demos\\collection-master\\artworks\\n\\014\\n01402-10301.json\n",
      "gettting  ./course-files\\pandas-fundamentals\\demos\\collection-master\\artworks\\n\\015\\n01500-9352.json\n",
      "gettting  ./course-files\\pandas-fundamentals\\demos\\collection-master\\artworks\\n\\016\\n01600-12347.json\n",
      "gettting  ./course-files\\pandas-fundamentals\\demos\\collection-master\\artworks\\n\\017\\n01702-12770.json\n",
      "gettting  ./course-files\\pandas-fundamentals\\demos\\collection-master\\artworks\\n\\018\\n01800-2784.json\n",
      "gettting  ./course-files\\pandas-fundamentals\\demos\\collection-master\\artworks\\n\\019\\n01900-5506.json\n",
      "gettting  ./course-files\\pandas-fundamentals\\demos\\collection-master\\artworks\\n\\020\\n02000-14837.json\n",
      "gettting  ./course-files\\pandas-fundamentals\\demos\\collection-master\\artworks\\n\\021\\n02108-12172.json\n",
      "gettting  ./course-files\\pandas-fundamentals\\demos\\collection-master\\artworks\\n\\022\\n02200-8675.json\n",
      "gettting  ./course-files\\pandas-fundamentals\\demos\\collection-master\\artworks\\n\\023\\n02300-1264.json\n",
      "gettting  ./course-files\\pandas-fundamentals\\demos\\collection-master\\artworks\\n\\024\\n02400-13472.json\n",
      "gettting  ./course-files\\pandas-fundamentals\\demos\\collection-master\\artworks\\n\\025\\n02530-7174.json\n",
      "gettting  ./course-files\\pandas-fundamentals\\demos\\collection-master\\artworks\\n\\026\\n02637-4914.json\n",
      "gettting  ./course-files\\pandas-fundamentals\\demos\\collection-master\\artworks\\n\\027\\n02700-14875.json\n",
      "gettting  ./course-files\\pandas-fundamentals\\demos\\collection-master\\artworks\\n\\028\\n02800-8475.json\n",
      "gettting  ./course-files\\pandas-fundamentals\\demos\\collection-master\\artworks\\n\\029\\n02916-13477.json\n",
      "gettting  ./course-files\\pandas-fundamentals\\demos\\collection-master\\artworks\\n\\030\\n03000-8412.json\n",
      "gettting  ./course-files\\pandas-fundamentals\\demos\\collection-master\\artworks\\n\\031\\n03133-14900.json\n",
      "gettting  ./course-files\\pandas-fundamentals\\demos\\collection-master\\artworks\\n\\032\\n03200-10382.json\n",
      "gettting  ./course-files\\pandas-fundamentals\\demos\\collection-master\\artworks\\n\\033\\n03312-11044.json\n",
      "gettting  ./course-files\\pandas-fundamentals\\demos\\collection-master\\artworks\\n\\034\\n03400-12738.json\n",
      "gettting  ./course-files\\pandas-fundamentals\\demos\\collection-master\\artworks\\n\\035\\n03500-2018.json\n",
      "gettting  ./course-files\\pandas-fundamentals\\demos\\collection-master\\artworks\\n\\036\\n03601-9460.json\n",
      "gettting  ./course-files\\pandas-fundamentals\\demos\\collection-master\\artworks\\n\\037\\n03700-11048.json\n",
      "gettting  ./course-files\\pandas-fundamentals\\demos\\collection-master\\artworks\\n\\038\\n03803-13781.json\n",
      "gettting  ./course-files\\pandas-fundamentals\\demos\\collection-master\\artworks\\n\\039\\n03905-2188.json\n",
      "gettting  ./course-files\\pandas-fundamentals\\demos\\collection-master\\artworks\\n\\040\\n04003-1572.json\n",
      "gettting  ./course-files\\pandas-fundamentals\\demos\\collection-master\\artworks\\n\\041\\n04100-4966.json\n",
      "gettting  ./course-files\\pandas-fundamentals\\demos\\collection-master\\artworks\\n\\042\\n04200-9081.json\n",
      "gettting  ./course-files\\pandas-fundamentals\\demos\\collection-master\\artworks\\n\\043\\n04300-4082.json\n",
      "gettting  ./course-files\\pandas-fundamentals\\demos\\collection-master\\artworks\\n\\044\\n04400-10982.json\n",
      "gettting  ./course-files\\pandas-fundamentals\\demos\\collection-master\\artworks\\n\\045\\n04500-15689.json\n",
      "gettting  ./course-files\\pandas-fundamentals\\demos\\collection-master\\artworks\\n\\046\\n04600-14362.json\n",
      "gettting  ./course-files\\pandas-fundamentals\\demos\\collection-master\\artworks\\n\\047\\n04700-2968.json\n",
      "gettting  ./course-files\\pandas-fundamentals\\demos\\collection-master\\artworks\\n\\048\\n04800-13678.json\n",
      "gettting  ./course-files\\pandas-fundamentals\\demos\\collection-master\\artworks\\n\\049\\n04900-13431.json\n",
      "gettting  ./course-files\\pandas-fundamentals\\demos\\collection-master\\artworks\\n\\050\\n05000-1379.json\n",
      "gettting  ./course-files\\pandas-fundamentals\\demos\\collection-master\\artworks\\n\\051\\n05100-5521.json\n",
      "gettting  ./course-files\\pandas-fundamentals\\demos\\collection-master\\artworks\\n\\052\\n05200-1138.json\n",
      "gettting  ./course-files\\pandas-fundamentals\\demos\\collection-master\\artworks\\n\\053\\n05300-1139.json\n",
      "gettting  ./course-files\\pandas-fundamentals\\demos\\collection-master\\artworks\\n\\054\\n05400-4925.json\n",
      "gettting  ./course-files\\pandas-fundamentals\\demos\\collection-master\\artworks\\n\\055\\n05500-14958.json\n",
      "gettting  ./course-files\\pandas-fundamentals\\demos\\collection-master\\artworks\\n\\056\\n05600-9664.json\n",
      "gettting  ./course-files\\pandas-fundamentals\\demos\\collection-master\\artworks\\n\\057\\n05700-5698.json\n",
      "gettting  ./course-files\\pandas-fundamentals\\demos\\collection-master\\artworks\\n\\058\\n05801-8394.json\n",
      "gettting  ./course-files\\pandas-fundamentals\\demos\\collection-master\\artworks\\n\\059\\n05901-13143.json\n",
      "gettting  ./course-files\\pandas-fundamentals\\demos\\collection-master\\artworks\\n\\060\\n06001-10960.json\n",
      "gettting  ./course-files\\pandas-fundamentals\\demos\\collection-master\\artworks\\n\\061\\n06129-13451.json\n",
      "gettting  ./course-files\\pandas-fundamentals\\demos\\collection-master\\artworks\\n\\062\\n06200-14163.json\n",
      "gettting  ./course-files\\pandas-fundamentals\\demos\\collection-master\\artworks\\n\\063\\n06326-1303.json\n",
      "gettting  ./course-files\\pandas-fundamentals\\demos\\collection-master\\artworks\\p\\010\\p01001-1284.json\n",
      "gettting  ./course-files\\pandas-fundamentals\\demos\\collection-master\\artworks\\p\\011\\p01100-4565.json\n",
      "gettting  ./course-files\\pandas-fundamentals\\demos\\collection-master\\artworks\\p\\012\\p01200-6788.json\n",
      "gettting  ./course-files\\pandas-fundamentals\\demos\\collection-master\\artworks\\p\\013\\p01300-13554.json\n",
      "gettting  ./course-files\\pandas-fundamentals\\demos\\collection-master\\artworks\\p\\014\\p01400-4007.json\n",
      "gettting  ./course-files\\pandas-fundamentals\\demos\\collection-master\\artworks\\p\\015\\p01500-11578.json\n",
      "gettting  ./course-files\\pandas-fundamentals\\demos\\collection-master\\artworks\\p\\016\\p01600-13877.json\n",
      "gettting  ./course-files\\pandas-fundamentals\\demos\\collection-master\\artworks\\p\\017\\p01700-2781.json\n",
      "gettting  ./course-files\\pandas-fundamentals\\demos\\collection-master\\artworks\\p\\018\\p01800-14115.json\n",
      "gettting  ./course-files\\pandas-fundamentals\\demos\\collection-master\\artworks\\p\\019\\p01900-2481.json\n",
      "gettting  ./course-files\\pandas-fundamentals\\demos\\collection-master\\artworks\\p\\020\\p02001-4796.json\n",
      "gettting  ./course-files\\pandas-fundamentals\\demos\\collection-master\\artworks\\p\\021\\p02100-9712.json\n",
      "gettting  ./course-files\\pandas-fundamentals\\demos\\collection-master\\artworks\\p\\022\\p02200-9810.json\n",
      "gettting  ./course-files\\pandas-fundamentals\\demos\\collection-master\\artworks\\p\\023\\p02300-6550.json\n",
      "gettting  ./course-files\\pandas-fundamentals\\demos\\collection-master\\artworks\\p\\024\\p02400-12894.json\n",
      "gettting  ./course-files\\pandas-fundamentals\\demos\\collection-master\\artworks\\p\\025\\p02500-12852.json\n",
      "gettting  ./course-files\\pandas-fundamentals\\demos\\collection-master\\artworks\\p\\026\\p02600-9969.json\n",
      "gettting  ./course-files\\pandas-fundamentals\\demos\\collection-master\\artworks\\p\\027\\p02700-10067.json\n",
      "gettting  ./course-files\\pandas-fundamentals\\demos\\collection-master\\artworks\\p\\028\\p02800-4430.json\n",
      "gettting  ./course-files\\pandas-fundamentals\\demos\\collection-master\\artworks\\p\\029\\p02900-10152.json\n",
      "gettting  ./course-files\\pandas-fundamentals\\demos\\collection-master\\artworks\\p\\030\\p03001-1233.json\n",
      "gettting  ./course-files\\pandas-fundamentals\\demos\\collection-master\\artworks\\p\\031\\p03100-6122.json\n",
      "gettting  ./course-files\\pandas-fundamentals\\demos\\collection-master\\artworks\\p\\032\\p03200-11552.json\n",
      "gettting  ./course-files\\pandas-fundamentals\\demos\\collection-master\\artworks\\p\\033\\p03300-11944.json\n",
      "gettting  ./course-files\\pandas-fundamentals\\demos\\collection-master\\artworks\\p\\040\\p04001-320.json\n",
      "gettting  ./course-files\\pandas-fundamentals\\demos\\collection-master\\artworks\\p\\041\\p04100-2046.json\n",
      "gettting  ./course-files\\pandas-fundamentals\\demos\\collection-master\\artworks\\p\\042\\p04200-3765.json\n",
      "gettting  ./course-files\\pandas-fundamentals\\demos\\collection-master\\artworks\\p\\043\\p04300-6161.json\n",
      "gettting  ./course-files\\pandas-fundamentals\\demos\\collection-master\\artworks\\p\\044\\p04400-7788.json\n",
      "gettting  ./course-files\\pandas-fundamentals\\demos\\collection-master\\artworks\\p\\045\\p04500-8059.json\n",
      "gettting  ./course-files\\pandas-fundamentals\\demos\\collection-master\\artworks\\p\\046\\p04600-9630.json\n",
      "gettting  ./course-files\\pandas-fundamentals\\demos\\collection-master\\artworks\\p\\047\\p04700-10832.json\n",
      "gettting  ./course-files\\pandas-fundamentals\\demos\\collection-master\\artworks\\p\\048\\p04800-11234.json\n",
      "gettting  ./course-files\\pandas-fundamentals\\demos\\collection-master\\artworks\\p\\049\\p04900-11413.json\n",
      "gettting  ./course-files\\pandas-fundamentals\\demos\\collection-master\\artworks\\p\\050\\p05001-11877.json\n",
      "gettting  ./course-files\\pandas-fundamentals\\demos\\collection-master\\artworks\\p\\051\\p05100-12635.json\n",
      "gettting  ./course-files\\pandas-fundamentals\\demos\\collection-master\\artworks\\p\\052\\p05200-14285.json\n",
      "gettting  ./course-files\\pandas-fundamentals\\demos\\collection-master\\artworks\\p\\053\\p05300-16277.json\n",
      "gettting  ./course-files\\pandas-fundamentals\\demos\\collection-master\\artworks\\p\\054\\p05400-11997.json\n",
      "gettting  ./course-files\\pandas-fundamentals\\demos\\collection-master\\artworks\\p\\055\\p05500-2075.json\n",
      "gettting  ./course-files\\pandas-fundamentals\\demos\\collection-master\\artworks\\p\\060\\p06001-436.json\n",
      "gettting  ./course-files\\pandas-fundamentals\\demos\\collection-master\\artworks\\p\\061\\p06100-3632.json\n",
      "gettting  ./course-files\\pandas-fundamentals\\demos\\collection-master\\artworks\\p\\062\\p06200-4659.json\n",
      "gettting  ./course-files\\pandas-fundamentals\\demos\\collection-master\\artworks\\p\\063\\p06300-6865.json\n",
      "gettting  ./course-files\\pandas-fundamentals\\demos\\collection-master\\artworks\\p\\064\\p06400-10905.json\n",
      "gettting  ./course-files\\pandas-fundamentals\\demos\\collection-master\\artworks\\p\\065\\p06500-12527.json\n",
      "gettting  ./course-files\\pandas-fundamentals\\demos\\collection-master\\artworks\\p\\066\\p06600-15748.json\n",
      "gettting  ./course-files\\pandas-fundamentals\\demos\\collection-master\\artworks\\p\\067\\p06700-10221.json\n",
      "gettting  ./course-files\\pandas-fundamentals\\demos\\collection-master\\artworks\\p\\068\\p06800-11037.json\n",
      "gettting  ./course-files\\pandas-fundamentals\\demos\\collection-master\\artworks\\p\\070\\p07001-651.json\n",
      "gettting  ./course-files\\pandas-fundamentals\\demos\\collection-master\\artworks\\p\\071\\p07100-12090.json\n",
      "gettting  ./course-files\\pandas-fundamentals\\demos\\collection-master\\artworks\\p\\072\\p07200-10672.json\n",
      "gettting  ./course-files\\pandas-fundamentals\\demos\\collection-master\\artworks\\p\\073\\p07300-15859.json\n",
      "gettting  ./course-files\\pandas-fundamentals\\demos\\collection-master\\artworks\\p\\074\\p07400-13595.json\n",
      "gettting  ./course-files\\pandas-fundamentals\\demos\\collection-master\\artworks\\p\\075\\p07500-15878.json\n",
      "gettting  ./course-files\\pandas-fundamentals\\demos\\collection-master\\artworks\\p\\076\\p07600-957.json\n",
      "gettting  ./course-files\\pandas-fundamentals\\demos\\collection-master\\artworks\\p\\077\\p07700-11747.json\n",
      "gettting  ./course-files\\pandas-fundamentals\\demos\\collection-master\\artworks\\p\\078\\p07800-11790.json\n",
      "gettting  ./course-files\\pandas-fundamentals\\demos\\collection-master\\artworks\\p\\079\\p07900-9582.json\n",
      "gettting  ./course-files\\pandas-fundamentals\\demos\\collection-master\\artworks\\p\\080\\p08001-959.json\n",
      "gettting  ./course-files\\pandas-fundamentals\\demos\\collection-master\\artworks\\p\\081\\p08100-5269.json\n",
      "gettting  ./course-files\\pandas-fundamentals\\demos\\collection-master\\artworks\\p\\082\\p08200-12110.json\n",
      "gettting  ./course-files\\pandas-fundamentals\\demos\\collection-master\\artworks\\p\\090\\p09000-67394.json\n",
      "gettting  ./course-files\\pandas-fundamentals\\demos\\collection-master\\artworks\\p\\091\\p09100-67795.json\n",
      "gettting  ./course-files\\pandas-fundamentals\\demos\\collection-master\\artworks\\p\\092\\p09200-67951.json\n",
      "gettting  ./course-files\\pandas-fundamentals\\demos\\collection-master\\artworks\\p\\110\\p11000-11330.json\n",
      "gettting  ./course-files\\pandas-fundamentals\\demos\\collection-master\\artworks\\p\\111\\p11100-328.json\n",
      "gettting  ./course-files\\pandas-fundamentals\\demos\\collection-master\\artworks\\p\\112\\p11200-15885.json\n",
      "gettting  ./course-files\\pandas-fundamentals\\demos\\collection-master\\artworks\\p\\113\\p11352-20183.json\n",
      "gettting  ./course-files\\pandas-fundamentals\\demos\\collection-master\\artworks\\p\\114\\p11400-21709.json\n",
      "gettting  ./course-files\\pandas-fundamentals\\demos\\collection-master\\artworks\\p\\115\\p11500-22187.json\n",
      "gettting  ./course-files\\pandas-fundamentals\\demos\\collection-master\\artworks\\p\\116\\p11641-26837.json\n",
      "gettting  ./course-files\\pandas-fundamentals\\demos\\collection-master\\artworks\\p\\117\\p11700-27190.json\n",
      "gettting  ./course-files\\pandas-fundamentals\\demos\\collection-master\\artworks\\p\\118\\p11800-67357.json\n",
      "gettting  ./course-files\\pandas-fundamentals\\demos\\collection-master\\artworks\\p\\119\\p11900-21363.json\n",
      "gettting  ./course-files\\pandas-fundamentals\\demos\\collection-master\\artworks\\p\\120\\p12000-79840.json\n",
      "gettting  ./course-files\\pandas-fundamentals\\demos\\collection-master\\artworks\\p\\121\\p12100-80967.json\n",
      "gettting  ./course-files\\pandas-fundamentals\\demos\\collection-master\\artworks\\p\\122\\p12200-80142.json\n",
      "gettting  ./course-files\\pandas-fundamentals\\demos\\collection-master\\artworks\\p\\123\\p12300-80590.json\n",
      "gettting  ./course-files\\pandas-fundamentals\\demos\\collection-master\\artworks\\p\\124\\p12400-80771.json\n",
      "gettting  ./course-files\\pandas-fundamentals\\demos\\collection-master\\artworks\\p\\129\\p12996-78819.json\n",
      "gettting  ./course-files\\pandas-fundamentals\\demos\\collection-master\\artworks\\p\\130\\p13000-26024.json\n",
      "gettting  ./course-files\\pandas-fundamentals\\demos\\collection-master\\artworks\\p\\131\\p13100-107049.json\n",
      "gettting  ./course-files\\pandas-fundamentals\\demos\\collection-master\\artworks\\p\\132\\p13200-118161.json\n",
      "gettting  ./course-files\\pandas-fundamentals\\demos\\collection-master\\artworks\\p\\133\\p13300-66887.json\n",
      "gettting  ./course-files\\pandas-fundamentals\\demos\\collection-master\\artworks\\p\\200\\p20000-19498.json\n",
      "gettting  ./course-files\\pandas-fundamentals\\demos\\collection-master\\artworks\\p\\201\\p20100-20590.json\n",
      "gettting  ./course-files\\pandas-fundamentals\\demos\\collection-master\\artworks\\p\\202\\p20200-27381.json\n",
      "gettting  ./course-files\\pandas-fundamentals\\demos\\collection-master\\artworks\\p\\203\\p20300-95350.json\n",
      "gettting  ./course-files\\pandas-fundamentals\\demos\\collection-master\\artworks\\p\\770\\p77001-1634.json\n",
      "gettting  ./course-files\\pandas-fundamentals\\demos\\collection-master\\artworks\\p\\771\\p77100-14056.json\n",
      "gettting  ./course-files\\pandas-fundamentals\\demos\\collection-master\\artworks\\p\\772\\p77200-5861.json\n",
      "gettting  ./course-files\\pandas-fundamentals\\demos\\collection-master\\artworks\\p\\773\\p77300-17336.json\n",
      "gettting  ./course-files\\pandas-fundamentals\\demos\\collection-master\\artworks\\p\\774\\p77400-19062.json\n",
      "gettting  ./course-files\\pandas-fundamentals\\demos\\collection-master\\artworks\\p\\775\\p77500-20223.json\n",
      "gettting  ./course-files\\pandas-fundamentals\\demos\\collection-master\\artworks\\p\\776\\p77606-20824.json\n",
      "gettting  ./course-files\\pandas-fundamentals\\demos\\collection-master\\artworks\\p\\777\\p77700-21164.json\n",
      "gettting  ./course-files\\pandas-fundamentals\\demos\\collection-master\\artworks\\p\\778\\p77800-21532.json\n",
      "gettting  ./course-files\\pandas-fundamentals\\demos\\collection-master\\artworks\\p\\779\\p77900-21818.json\n",
      "gettting  ./course-files\\pandas-fundamentals\\demos\\collection-master\\artworks\\p\\780\\p78000-22026.json\n",
      "gettting  ./course-files\\pandas-fundamentals\\demos\\collection-master\\artworks\\p\\781\\p78100-26285.json\n",
      "gettting  ./course-files\\pandas-fundamentals\\demos\\collection-master\\artworks\\p\\782\\p78205-26300.json\n",
      "gettting  ./course-files\\pandas-fundamentals\\demos\\collection-master\\artworks\\p\\783\\p78300-26559.json\n",
      "gettting  ./course-files\\pandas-fundamentals\\demos\\collection-master\\artworks\\p\\784\\p78400-27236.json\n",
      "gettting  ./course-files\\pandas-fundamentals\\demos\\collection-master\\artworks\\p\\785\\p78500-66660.json\n",
      "gettting  ./course-files\\pandas-fundamentals\\demos\\collection-master\\artworks\\p\\786\\p78600-69942.json\n",
      "gettting  ./course-files\\pandas-fundamentals\\demos\\collection-master\\artworks\\p\\787\\p78700-76399.json\n",
      "gettting  ./course-files\\pandas-fundamentals\\demos\\collection-master\\artworks\\p\\788\\p78800-81145.json\n",
      "gettting  ./course-files\\pandas-fundamentals\\demos\\collection-master\\artworks\\p\\789\\p78908-81049.json\n",
      "gettting  ./course-files\\pandas-fundamentals\\demos\\collection-master\\artworks\\p\\790\\p79000-83700.json\n",
      "gettting  ./course-files\\pandas-fundamentals\\demos\\collection-master\\artworks\\p\\791\\p79100-83192.json\n",
      "gettting  ./course-files\\pandas-fundamentals\\demos\\collection-master\\artworks\\p\\792\\p79200-88850.json\n",
      "gettting  ./course-files\\pandas-fundamentals\\demos\\collection-master\\artworks\\p\\793\\p79300-85267.json\n",
      "gettting  ./course-files\\pandas-fundamentals\\demos\\collection-master\\artworks\\p\\794\\p79400-101045.json\n",
      "gettting  ./course-files\\pandas-fundamentals\\demos\\collection-master\\artworks\\p\\795\\p79500-101145.json\n",
      "gettting  ./course-files\\pandas-fundamentals\\demos\\collection-master\\artworks\\p\\796\\p79600-96224.json\n",
      "gettting  ./course-files\\pandas-fundamentals\\demos\\collection-master\\artworks\\p\\797\\p79700-96997.json\n",
      "gettting  ./course-files\\pandas-fundamentals\\demos\\collection-master\\artworks\\p\\798\\p79800-105292.json\n",
      "gettting  ./course-files\\pandas-fundamentals\\demos\\collection-master\\artworks\\p\\799\\p79900-112418.json\n",
      "gettting  ./course-files\\pandas-fundamentals\\demos\\collection-master\\artworks\\p\\800\\p80000-117159.json\n",
      "gettting  ./course-files\\pandas-fundamentals\\demos\\collection-master\\artworks\\p\\801\\p80100-120480.json\n",
      "gettting  ./course-files\\pandas-fundamentals\\demos\\collection-master\\artworks\\p\\802\\p80200-125434.json\n",
      "gettting  ./course-files\\pandas-fundamentals\\demos\\collection-master\\artworks\\t\\000\\t00001-15716.json\n",
      "gettting  ./course-files\\pandas-fundamentals\\demos\\collection-master\\artworks\\t\\001\\t00100-8701.json\n",
      "gettting  ./course-files\\pandas-fundamentals\\demos\\collection-master\\artworks\\t\\002\\t00200-12613.json\n",
      "gettting  ./course-files\\pandas-fundamentals\\demos\\collection-master\\artworks\\t\\003\\t00300-618.json\n",
      "gettting  ./course-files\\pandas-fundamentals\\demos\\collection-master\\artworks\\t\\004\\t00400-1497.json\n",
      "gettting  ./course-files\\pandas-fundamentals\\demos\\collection-master\\artworks\\t\\005\\t00500-1373.json\n",
      "gettting  ./course-files\\pandas-fundamentals\\demos\\collection-master\\artworks\\t\\006\\t00600-12872.json\n",
      "gettting  ./course-files\\pandas-fundamentals\\demos\\collection-master\\artworks\\t\\007\\t00700-6034.json\n",
      "gettting  ./course-files\\pandas-fundamentals\\demos\\collection-master\\artworks\\t\\008\\t00800-2375.json\n",
      "gettting  ./course-files\\pandas-fundamentals\\demos\\collection-master\\artworks\\t\\009\\t00900-1864.json\n",
      "gettting  ./course-files\\pandas-fundamentals\\demos\\collection-master\\artworks\\t\\010\\t01000-5932.json\n",
      "gettting  ./course-files\\pandas-fundamentals\\demos\\collection-master\\artworks\\t\\011\\t01100-12666.json\n",
      "gettting  ./course-files\\pandas-fundamentals\\demos\\collection-master\\artworks\\t\\012\\t01200-14516.json\n",
      "gettting  ./course-files\\pandas-fundamentals\\demos\\collection-master\\artworks\\t\\013\\t01300-8227.json\n",
      "gettting  ./course-files\\pandas-fundamentals\\demos\\collection-master\\artworks\\t\\014\\t01402-729.json\n",
      "gettting  ./course-files\\pandas-fundamentals\\demos\\collection-master\\artworks\\t\\015\\t01500-5446.json\n",
      "gettting  ./course-files\\pandas-fundamentals\\demos\\collection-master\\artworks\\t\\016\\t01600-5457.json\n",
      "gettting  ./course-files\\pandas-fundamentals\\demos\\collection-master\\artworks\\t\\017\\t01700-9340.json\n",
      "gettting  ./course-files\\pandas-fundamentals\\demos\\collection-master\\artworks\\t\\018\\t01800-6634.json\n",
      "gettting  ./course-files\\pandas-fundamentals\\demos\\collection-master\\artworks\\t\\019\\t01900-16107.json\n",
      "gettting  ./course-files\\pandas-fundamentals\\demos\\collection-master\\artworks\\t\\020\\t02000-4957.json\n",
      "gettting  ./course-files\\pandas-fundamentals\\demos\\collection-master\\artworks\\t\\021\\t02100-642.json\n",
      "gettting  ./course-files\\pandas-fundamentals\\demos\\collection-master\\artworks\\t\\022\\t02200-4869.json\n",
      "gettting  ./course-files\\pandas-fundamentals\\demos\\collection-master\\artworks\\t\\023\\t02300-10270.json\n",
      "gettting  ./course-files\\pandas-fundamentals\\demos\\collection-master\\artworks\\t\\024\\t02400-13305.json\n",
      "gettting  ./course-files\\pandas-fundamentals\\demos\\collection-master\\artworks\\t\\025\\t02500-3096.json\n",
      "gettting  ./course-files\\pandas-fundamentals\\demos\\collection-master\\artworks\\t\\026\\t02600-3195.json\n",
      "gettting  ./course-files\\pandas-fundamentals\\demos\\collection-master\\artworks\\t\\027\\t02700-3295.json\n",
      "gettting  ./course-files\\pandas-fundamentals\\demos\\collection-master\\artworks\\t\\028\\t02800-3395.json\n",
      "gettting  ./course-files\\pandas-fundamentals\\demos\\collection-master\\artworks\\t\\029\\t02900-3495.json\n",
      "gettting  ./course-files\\pandas-fundamentals\\demos\\collection-master\\artworks\\t\\030\\t03000-3595.json\n",
      "gettting  ./course-files\\pandas-fundamentals\\demos\\collection-master\\artworks\\t\\031\\t03100-8765.json\n",
      "gettting  ./course-files\\pandas-fundamentals\\demos\\collection-master\\artworks\\t\\032\\t03200-6119.json\n",
      "gettting  ./course-files\\pandas-fundamentals\\demos\\collection-master\\artworks\\t\\033\\t03300-1569.json\n",
      "gettting  ./course-files\\pandas-fundamentals\\demos\\collection-master\\artworks\\t\\034\\t03400-11516.json\n",
      "gettting  ./course-files\\pandas-fundamentals\\demos\\collection-master\\artworks\\t\\035\\t03500-8904.json\n",
      "gettting  ./course-files\\pandas-fundamentals\\demos\\collection-master\\artworks\\t\\036\\t03600-1263.json\n",
      "gettting  ./course-files\\pandas-fundamentals\\demos\\collection-master\\artworks\\t\\037\\t03700-15721.json\n",
      "gettting  ./course-files\\pandas-fundamentals\\demos\\collection-master\\artworks\\t\\038\\t03800-602.json\n",
      "gettting  ./course-files\\pandas-fundamentals\\demos\\collection-master\\artworks\\t\\039\\t03900-2630.json\n",
      "gettting  ./course-files\\pandas-fundamentals\\demos\\collection-master\\artworks\\t\\040\\t04000-2661.json\n",
      "gettting  ./course-files\\pandas-fundamentals\\demos\\collection-master\\artworks\\t\\041\\t04100-2761.json\n",
      "gettting  ./course-files\\pandas-fundamentals\\demos\\collection-master\\artworks\\t\\042\\t04200-6247.json\n",
      "gettting  ./course-files\\pandas-fundamentals\\demos\\collection-master\\artworks\\t\\043\\t04300-6347.json\n",
      "gettting  ./course-files\\pandas-fundamentals\\demos\\collection-master\\artworks\\t\\044\\t04400-15069.json\n",
      "gettting  ./course-files\\pandas-fundamentals\\demos\\collection-master\\artworks\\t\\045\\t04500-15169.json\n",
      "gettting  ./course-files\\pandas-fundamentals\\demos\\collection-master\\artworks\\t\\046\\t04600-15269.json\n",
      "gettting  ./course-files\\pandas-fundamentals\\demos\\collection-master\\artworks\\t\\047\\t04700-15369.json\n",
      "gettting  ./course-files\\pandas-fundamentals\\demos\\collection-master\\artworks\\t\\048\\t04800-15469.json\n",
      "gettting  ./course-files\\pandas-fundamentals\\demos\\collection-master\\artworks\\t\\049\\t04900-3983.json\n",
      "gettting  ./course-files\\pandas-fundamentals\\demos\\collection-master\\artworks\\t\\050\\t05000-12283.json\n",
      "gettting  ./course-files\\pandas-fundamentals\\demos\\collection-master\\artworks\\t\\051\\t05100-16664.json\n",
      "gettting  ./course-files\\pandas-fundamentals\\demos\\collection-master\\artworks\\t\\052\\t05200-16764.json\n",
      "gettting  ./course-files\\pandas-fundamentals\\demos\\collection-master\\artworks\\t\\053\\t05300-17077.json\n",
      "gettting  ./course-files\\pandas-fundamentals\\demos\\collection-master\\artworks\\t\\054\\t05400-17177.json\n",
      "gettting  ./course-files\\pandas-fundamentals\\demos\\collection-master\\artworks\\t\\055\\t05500-17286.json\n",
      "gettting  ./course-files\\pandas-fundamentals\\demos\\collection-master\\artworks\\t\\056\\t05600-18848.json\n",
      "gettting  ./course-files\\pandas-fundamentals\\demos\\collection-master\\artworks\\t\\057\\t05700-18875.json\n",
      "gettting  ./course-files\\pandas-fundamentals\\demos\\collection-master\\artworks\\t\\058\\t05800-19191.json\n",
      "gettting  ./course-files\\pandas-fundamentals\\demos\\collection-master\\artworks\\t\\059\\t05900-19632.json\n",
      "gettting  ./course-files\\pandas-fundamentals\\demos\\collection-master\\artworks\\t\\060\\t06000-19728.json\n",
      "gettting  ./course-files\\pandas-fundamentals\\demos\\collection-master\\artworks\\t\\061\\t06100-19828.json\n",
      "gettting  ./course-files\\pandas-fundamentals\\demos\\collection-master\\artworks\\t\\062\\t06200-19928.json\n",
      "gettting  ./course-files\\pandas-fundamentals\\demos\\collection-master\\artworks\\t\\063\\t06300-20028.json\n",
      "gettting  ./course-files\\pandas-fundamentals\\demos\\collection-master\\artworks\\t\\064\\t06400-19578.json\n",
      "gettting  ./course-files\\pandas-fundamentals\\demos\\collection-master\\artworks\\t\\065\\t06500-20267.json\n",
      "gettting  ./course-files\\pandas-fundamentals\\demos\\collection-master\\artworks\\t\\066\\t06600-20452.json\n",
      "gettting  ./course-files\\pandas-fundamentals\\demos\\collection-master\\artworks\\t\\067\\t06700-20658.json\n",
      "gettting  ./course-files\\pandas-fundamentals\\demos\\collection-master\\artworks\\t\\068\\t06800-20849.json\n",
      "gettting  ./course-files\\pandas-fundamentals\\demos\\collection-master\\artworks\\t\\069\\t06900-21193.json\n",
      "gettting  ./course-files\\pandas-fundamentals\\demos\\collection-master\\artworks\\t\\070\\t07000-21398.json\n",
      "gettting  ./course-files\\pandas-fundamentals\\demos\\collection-master\\artworks\\t\\071\\t07100-21603.json\n",
      "gettting  ./course-files\\pandas-fundamentals\\demos\\collection-master\\artworks\\t\\072\\t07200-21821.json\n",
      "gettting  ./course-files\\pandas-fundamentals\\demos\\collection-master\\artworks\\t\\073\\t07300-22127.json\n",
      "gettting  ./course-files\\pandas-fundamentals\\demos\\collection-master\\artworks\\t\\074\\t07400-26112.json\n",
      "gettting  ./course-files\\pandas-fundamentals\\demos\\collection-master\\artworks\\t\\075\\t07500-26548.json\n",
      "gettting  ./course-files\\pandas-fundamentals\\demos\\collection-master\\artworks\\t\\076\\t07600-27012.json\n",
      "gettting  ./course-files\\pandas-fundamentals\\demos\\collection-master\\artworks\\t\\077\\t07700-116.json\n",
      "gettting  ./course-files\\pandas-fundamentals\\demos\\collection-master\\artworks\\t\\078\\t07800-6.json\n",
      "gettting  ./course-files\\pandas-fundamentals\\demos\\collection-master\\artworks\\t\\079\\t07900-71536.json\n",
      "gettting  ./course-files\\pandas-fundamentals\\demos\\collection-master\\artworks\\t\\080\\t08000-22546.json\n",
      "gettting  ./course-files\\pandas-fundamentals\\demos\\collection-master\\artworks\\t\\081\\t08100-22438.json\n",
      "gettting  ./course-files\\pandas-fundamentals\\demos\\collection-master\\artworks\\t\\082\\t08200-22508.json\n",
      "gettting  ./course-files\\pandas-fundamentals\\demos\\collection-master\\artworks\\t\\083\\t08300-24186.json\n",
      "gettting  ./course-files\\pandas-fundamentals\\demos\\collection-master\\artworks\\t\\084\\t08400-22727.json\n",
      "gettting  ./course-files\\pandas-fundamentals\\demos\\collection-master\\artworks\\t\\085\\t08500-23566.json\n",
      "gettting  ./course-files\\pandas-fundamentals\\demos\\collection-master\\artworks\\t\\086\\t08600-23997.json\n",
      "gettting  ./course-files\\pandas-fundamentals\\demos\\collection-master\\artworks\\t\\087\\t08700-23926.json\n",
      "gettting  ./course-files\\pandas-fundamentals\\demos\\collection-master\\artworks\\t\\088\\t08800-24367.json\n",
      "gettting  ./course-files\\pandas-fundamentals\\demos\\collection-master\\artworks\\t\\089\\t08900-22946.json\n",
      "gettting  ./course-files\\pandas-fundamentals\\demos\\collection-master\\artworks\\t\\090\\t09000-24430.json\n",
      "gettting  ./course-files\\pandas-fundamentals\\demos\\collection-master\\artworks\\t\\091\\t09100-23189.json\n",
      "gettting  ./course-files\\pandas-fundamentals\\demos\\collection-master\\artworks\\t\\092\\t09200-23477.json\n",
      "gettting  ./course-files\\pandas-fundamentals\\demos\\collection-master\\artworks\\t\\093\\t09300-24001.json\n",
      "gettting  ./course-files\\pandas-fundamentals\\demos\\collection-master\\artworks\\t\\094\\t09400-23406.json\n",
      "gettting  ./course-files\\pandas-fundamentals\\demos\\collection-master\\artworks\\t\\095\\t09500-22342.json\n",
      "gettting  ./course-files\\pandas-fundamentals\\demos\\collection-master\\artworks\\t\\096\\t09600-24125.json\n",
      "gettting  ./course-files\\pandas-fundamentals\\demos\\collection-master\\artworks\\t\\097\\t09700-24119.json\n",
      "gettting  ./course-files\\pandas-fundamentals\\demos\\collection-master\\artworks\\t\\098\\t09800-24597.json\n",
      "gettting  ./course-files\\pandas-fundamentals\\demos\\collection-master\\artworks\\t\\099\\t09900-24641.json\n",
      "gettting  ./course-files\\pandas-fundamentals\\demos\\collection-master\\artworks\\t\\100\\t10000-23668.json\n",
      "gettting  ./course-files\\pandas-fundamentals\\demos\\collection-master\\artworks\\t\\101\\t10100-23157.json\n",
      "gettting  ./course-files\\pandas-fundamentals\\demos\\collection-master\\artworks\\t\\102\\t10200-24292.json\n",
      "gettting  ./course-files\\pandas-fundamentals\\demos\\collection-master\\artworks\\t\\103\\t10300-24746.json\n",
      "gettting  ./course-files\\pandas-fundamentals\\demos\\collection-master\\artworks\\t\\104\\t10400-24834.json\n",
      "gettting  ./course-files\\pandas-fundamentals\\demos\\collection-master\\artworks\\t\\105\\t10500-24877.json\n",
      "gettting  ./course-files\\pandas-fundamentals\\demos\\collection-master\\artworks\\t\\106\\t10600-24993.json\n",
      "gettting  ./course-files\\pandas-fundamentals\\demos\\collection-master\\artworks\\t\\107\\t10700-23360.json\n",
      "gettting  ./course-files\\pandas-fundamentals\\demos\\collection-master\\artworks\\t\\108\\t10800-23354.json\n",
      "gettting  ./course-files\\pandas-fundamentals\\demos\\collection-master\\artworks\\t\\109\\t10900-24928.json\n",
      "gettting  ./course-files\\pandas-fundamentals\\demos\\collection-master\\artworks\\t\\110\\t11000-25315.json\n",
      "gettting  ./course-files\\pandas-fundamentals\\demos\\collection-master\\artworks\\t\\111\\t11100-25456.json\n",
      "gettting  ./course-files\\pandas-fundamentals\\demos\\collection-master\\artworks\\t\\112\\t11200-25801.json\n",
      "gettting  ./course-files\\pandas-fundamentals\\demos\\collection-master\\artworks\\t\\113\\t11300-25254.json\n",
      "gettting  ./course-files\\pandas-fundamentals\\demos\\collection-master\\artworks\\t\\114\\t11400-25746.json\n",
      "gettting  ./course-files\\pandas-fundamentals\\demos\\collection-master\\artworks\\t\\115\\t11500-25392.json\n",
      "gettting  ./course-files\\pandas-fundamentals\\demos\\collection-master\\artworks\\t\\116\\t11600-25713.json\n",
      "gettting  ./course-files\\pandas-fundamentals\\demos\\collection-master\\artworks\\t\\117\\t11700-25933.json\n",
      "gettting  ./course-files\\pandas-fundamentals\\demos\\collection-master\\artworks\\t\\118\\t11800-80033.json\n",
      "gettting  ./course-files\\pandas-fundamentals\\demos\\collection-master\\artworks\\t\\119\\t11900-80857.json\n",
      "gettting  ./course-files\\pandas-fundamentals\\demos\\collection-master\\artworks\\t\\120\\t12001-84316.json\n",
      "gettting  ./course-files\\pandas-fundamentals\\demos\\collection-master\\artworks\\t\\121\\t12100-88228.json\n",
      "gettting  ./course-files\\pandas-fundamentals\\demos\\collection-master\\artworks\\t\\122\\t12200-88060.json\n",
      "gettting  ./course-files\\pandas-fundamentals\\demos\\collection-master\\artworks\\t\\123\\t12300-81819.json\n",
      "gettting  ./course-files\\pandas-fundamentals\\demos\\collection-master\\artworks\\t\\124\\t12400-26747.json\n",
      "gettting  ./course-files\\pandas-fundamentals\\demos\\collection-master\\artworks\\t\\125\\t12500-94662.json\n",
      "gettting  ./course-files\\pandas-fundamentals\\demos\\collection-master\\artworks\\t\\126\\t12600-66602.json\n",
      "gettting  ./course-files\\pandas-fundamentals\\demos\\collection-master\\artworks\\t\\127\\t12700-99423.json\n",
      "gettting  ./course-files\\pandas-fundamentals\\demos\\collection-master\\artworks\\t\\128\\t12800-100499.json\n",
      "gettting  ./course-files\\pandas-fundamentals\\demos\\collection-master\\artworks\\t\\129\\t12900-101563.json\n",
      "gettting  ./course-files\\pandas-fundamentals\\demos\\collection-master\\artworks\\t\\130\\t13000-96968.json\n",
      "gettting  ./course-files\\pandas-fundamentals\\demos\\collection-master\\artworks\\t\\131\\t13100-108923.json\n",
      "gettting  ./course-files\\pandas-fundamentals\\demos\\collection-master\\artworks\\t\\132\\t13200-90120.json\n",
      "gettting  ./course-files\\pandas-fundamentals\\demos\\collection-master\\artworks\\t\\133\\t13300-111919.json\n",
      "gettting  ./course-files\\pandas-fundamentals\\demos\\collection-master\\artworks\\t\\134\\t13400-118532.json\n",
      "gettting  ./course-files\\pandas-fundamentals\\demos\\collection-master\\artworks\\t\\135\\t13500-117815.json\n",
      "gettting  ./course-files\\pandas-fundamentals\\demos\\collection-master\\artworks\\t\\136\\t13600-117484.json\n",
      "gettting  ./course-files\\pandas-fundamentals\\demos\\collection-master\\artworks\\t\\137\\t13700-89762.json\n",
      "gettting  ./course-files\\pandas-fundamentals\\demos\\collection-master\\artworks\\t\\138\\t13800-123531.json\n"
     ]
    }
   ],
   "metadata": {}
  },
  {
   "cell_type": "code",
   "execution_count": null,
   "source": [
    "df.count()"
   ],
   "outputs": [
    {
     "output_type": "execute_result",
     "data": {
      "text/plain": [
       "all_artists        738\n",
       "title              738\n",
       "medium             679\n",
       "acquisitionYear    738\n",
       "width              738\n",
       "height             738\n",
       "units              738\n",
       "dtype: int64"
      ]
     },
     "metadata": {},
     "execution_count": 184
    }
   ],
   "metadata": {}
  },
  {
   "cell_type": "code",
   "execution_count": null,
   "source": [
    "#how many artist\n",
    "#how man art did artist a did\n",
    "#what is the biggest piece\n",
    "\n",
    "cols_to_use = ['id', 'artist','title','medium','year','acquisitionYear','width','height','units']\n",
    "df = pd.read_csv('./course-files/pandas-fundamentals/demos/collection-master/artwork_data.csv',\n",
    " \n",
    " index_col='id',\n",
    " usecols=cols_to_use\n",
    " )\n"
   ],
   "outputs": [
    {
     "output_type": "stream",
     "name": "stderr",
     "text": [
      "C:\\Python39\\lib\\site-packages\\IPython\\core\\interactiveshell.py:3437: DtypeWarning: Columns (9,13) have mixed types.Specify dtype option on import or set low_memory=False.\n",
      "  exec(code_obj, self.user_global_ns, self.user_ns)\n"
     ]
    }
   ],
   "metadata": {}
  },
  {
   "cell_type": "code",
   "execution_count": null,
   "source": [
    "#count artist\n",
    "artist = df['artist']\n",
    "print(len(pd.unique(artist)))"
   ],
   "outputs": [
    {
     "output_type": "stream",
     "name": "stdout",
     "text": [
      "3336\n"
     ]
    }
   ],
   "metadata": {}
  },
  {
   "cell_type": "code",
   "execution_count": null,
   "source": [
    "#filtering\n",
    "\n",
    "blake_df = df['artist'] == 'Bacon, Francis'\n",
    "blake_df.value_counts()\n",
    "\n"
   ],
   "outputs": [
    {
     "output_type": "execute_result",
     "data": {
      "text/plain": [
       "False    69151\n",
       "True        50\n",
       "Name: artist, dtype: int64"
      ]
     },
     "metadata": {},
     "execution_count": 187
    }
   ],
   "metadata": {}
  },
  {
   "cell_type": "code",
   "execution_count": null,
   "source": [
    "#gives a count for each artist\n",
    "artist_counts = df['artist'].value_counts()"
   ],
   "outputs": [],
   "metadata": {}
  },
  {
   "cell_type": "code",
   "execution_count": null,
   "source": [
    "#loc by label\n",
    "#iloc by position\n",
    "\n",
    "df['height'] * df['width'] # breaks because of mixed types\n",
    "\n"
   ],
   "outputs": [
    {
     "output_type": "error",
     "ename": "TypeError",
     "evalue": "can't multiply sequence by non-int of type 'float'",
     "traceback": [
      "\u001b[1;31m---------------------------------------------------------------------------\u001b[0m",
      "\u001b[1;31mTypeError\u001b[0m                                 Traceback (most recent call last)",
      "\u001b[1;32mC:\\Python39\\lib\\site-packages\\pandas\\core\\ops\\array_ops.py\u001b[0m in \u001b[0;36m_na_arithmetic_op\u001b[1;34m(left, right, op, is_cmp)\u001b[0m\n\u001b[0;32m    165\u001b[0m     \u001b[1;32mtry\u001b[0m\u001b[1;33m:\u001b[0m\u001b[1;33m\u001b[0m\u001b[1;33m\u001b[0m\u001b[0m\n\u001b[1;32m--> 166\u001b[1;33m         \u001b[0mresult\u001b[0m \u001b[1;33m=\u001b[0m \u001b[0mfunc\u001b[0m\u001b[1;33m(\u001b[0m\u001b[0mleft\u001b[0m\u001b[1;33m,\u001b[0m \u001b[0mright\u001b[0m\u001b[1;33m)\u001b[0m\u001b[1;33m\u001b[0m\u001b[1;33m\u001b[0m\u001b[0m\n\u001b[0m\u001b[0;32m    167\u001b[0m     \u001b[1;32mexcept\u001b[0m \u001b[0mTypeError\u001b[0m\u001b[1;33m:\u001b[0m\u001b[1;33m\u001b[0m\u001b[1;33m\u001b[0m\u001b[0m\n",
      "\u001b[1;32mC:\\Python39\\lib\\site-packages\\pandas\\core\\computation\\expressions.py\u001b[0m in \u001b[0;36mevaluate\u001b[1;34m(op, a, b, use_numexpr)\u001b[0m\n\u001b[0;32m    238\u001b[0m             \u001b[1;31m# error: \"None\" not callable\u001b[0m\u001b[1;33m\u001b[0m\u001b[1;33m\u001b[0m\u001b[1;33m\u001b[0m\u001b[0m\n\u001b[1;32m--> 239\u001b[1;33m             \u001b[1;32mreturn\u001b[0m \u001b[0m_evaluate\u001b[0m\u001b[1;33m(\u001b[0m\u001b[0mop\u001b[0m\u001b[1;33m,\u001b[0m \u001b[0mop_str\u001b[0m\u001b[1;33m,\u001b[0m \u001b[0ma\u001b[0m\u001b[1;33m,\u001b[0m \u001b[0mb\u001b[0m\u001b[1;33m)\u001b[0m  \u001b[1;31m# type: ignore[misc]\u001b[0m\u001b[1;33m\u001b[0m\u001b[1;33m\u001b[0m\u001b[0m\n\u001b[0m\u001b[0;32m    240\u001b[0m     \u001b[1;32mreturn\u001b[0m \u001b[0m_evaluate_standard\u001b[0m\u001b[1;33m(\u001b[0m\u001b[0mop\u001b[0m\u001b[1;33m,\u001b[0m \u001b[0mop_str\u001b[0m\u001b[1;33m,\u001b[0m \u001b[0ma\u001b[0m\u001b[1;33m,\u001b[0m \u001b[0mb\u001b[0m\u001b[1;33m)\u001b[0m\u001b[1;33m\u001b[0m\u001b[1;33m\u001b[0m\u001b[0m\n",
      "\u001b[1;32mC:\\Python39\\lib\\site-packages\\pandas\\core\\computation\\expressions.py\u001b[0m in \u001b[0;36m_evaluate_standard\u001b[1;34m(op, op_str, a, b)\u001b[0m\n\u001b[0;32m     68\u001b[0m         \u001b[0m_store_test_result\u001b[0m\u001b[1;33m(\u001b[0m\u001b[1;32mFalse\u001b[0m\u001b[1;33m)\u001b[0m\u001b[1;33m\u001b[0m\u001b[1;33m\u001b[0m\u001b[0m\n\u001b[1;32m---> 69\u001b[1;33m     \u001b[1;32mreturn\u001b[0m \u001b[0mop\u001b[0m\u001b[1;33m(\u001b[0m\u001b[0ma\u001b[0m\u001b[1;33m,\u001b[0m \u001b[0mb\u001b[0m\u001b[1;33m)\u001b[0m\u001b[1;33m\u001b[0m\u001b[1;33m\u001b[0m\u001b[0m\n\u001b[0m\u001b[0;32m     70\u001b[0m \u001b[1;33m\u001b[0m\u001b[0m\n",
      "\u001b[1;31mTypeError\u001b[0m: can't multiply sequence by non-int of type 'float'",
      "\nDuring handling of the above exception, another exception occurred:\n",
      "\u001b[1;31mTypeError\u001b[0m                                 Traceback (most recent call last)",
      "\u001b[1;32m<ipython-input-189-91a01ef4a5f0>\u001b[0m in \u001b[0;36m<module>\u001b[1;34m\u001b[0m\n\u001b[0;32m      2\u001b[0m \u001b[1;31m#iloc by position\u001b[0m\u001b[1;33m\u001b[0m\u001b[1;33m\u001b[0m\u001b[1;33m\u001b[0m\u001b[0m\n\u001b[0;32m      3\u001b[0m \u001b[1;33m\u001b[0m\u001b[0m\n\u001b[1;32m----> 4\u001b[1;33m \u001b[0mdf\u001b[0m\u001b[1;33m[\u001b[0m\u001b[1;34m'height'\u001b[0m\u001b[1;33m]\u001b[0m \u001b[1;33m*\u001b[0m \u001b[0mdf\u001b[0m\u001b[1;33m[\u001b[0m\u001b[1;34m'width'\u001b[0m\u001b[1;33m]\u001b[0m \u001b[1;31m# breaks because of mixed types\u001b[0m\u001b[1;33m\u001b[0m\u001b[1;33m\u001b[0m\u001b[0m\n\u001b[0m\u001b[0;32m      5\u001b[0m \u001b[1;33m\u001b[0m\u001b[0m\n",
      "\u001b[1;32mC:\\Python39\\lib\\site-packages\\pandas\\core\\ops\\common.py\u001b[0m in \u001b[0;36mnew_method\u001b[1;34m(self, other)\u001b[0m\n\u001b[0;32m     67\u001b[0m         \u001b[0mother\u001b[0m \u001b[1;33m=\u001b[0m \u001b[0mitem_from_zerodim\u001b[0m\u001b[1;33m(\u001b[0m\u001b[0mother\u001b[0m\u001b[1;33m)\u001b[0m\u001b[1;33m\u001b[0m\u001b[1;33m\u001b[0m\u001b[0m\n\u001b[0;32m     68\u001b[0m \u001b[1;33m\u001b[0m\u001b[0m\n\u001b[1;32m---> 69\u001b[1;33m         \u001b[1;32mreturn\u001b[0m \u001b[0mmethod\u001b[0m\u001b[1;33m(\u001b[0m\u001b[0mself\u001b[0m\u001b[1;33m,\u001b[0m \u001b[0mother\u001b[0m\u001b[1;33m)\u001b[0m\u001b[1;33m\u001b[0m\u001b[1;33m\u001b[0m\u001b[0m\n\u001b[0m\u001b[0;32m     70\u001b[0m \u001b[1;33m\u001b[0m\u001b[0m\n\u001b[0;32m     71\u001b[0m     \u001b[1;32mreturn\u001b[0m \u001b[0mnew_method\u001b[0m\u001b[1;33m\u001b[0m\u001b[1;33m\u001b[0m\u001b[0m\n",
      "\u001b[1;32mC:\\Python39\\lib\\site-packages\\pandas\\core\\arraylike.py\u001b[0m in \u001b[0;36m__mul__\u001b[1;34m(self, other)\u001b[0m\n\u001b[0;32m    106\u001b[0m     \u001b[1;33m@\u001b[0m\u001b[0munpack_zerodim_and_defer\u001b[0m\u001b[1;33m(\u001b[0m\u001b[1;34m\"__mul__\"\u001b[0m\u001b[1;33m)\u001b[0m\u001b[1;33m\u001b[0m\u001b[1;33m\u001b[0m\u001b[0m\n\u001b[0;32m    107\u001b[0m     \u001b[1;32mdef\u001b[0m \u001b[0m__mul__\u001b[0m\u001b[1;33m(\u001b[0m\u001b[0mself\u001b[0m\u001b[1;33m,\u001b[0m \u001b[0mother\u001b[0m\u001b[1;33m)\u001b[0m\u001b[1;33m:\u001b[0m\u001b[1;33m\u001b[0m\u001b[1;33m\u001b[0m\u001b[0m\n\u001b[1;32m--> 108\u001b[1;33m         \u001b[1;32mreturn\u001b[0m \u001b[0mself\u001b[0m\u001b[1;33m.\u001b[0m\u001b[0m_arith_method\u001b[0m\u001b[1;33m(\u001b[0m\u001b[0mother\u001b[0m\u001b[1;33m,\u001b[0m \u001b[0moperator\u001b[0m\u001b[1;33m.\u001b[0m\u001b[0mmul\u001b[0m\u001b[1;33m)\u001b[0m\u001b[1;33m\u001b[0m\u001b[1;33m\u001b[0m\u001b[0m\n\u001b[0m\u001b[0;32m    109\u001b[0m \u001b[1;33m\u001b[0m\u001b[0m\n\u001b[0;32m    110\u001b[0m     \u001b[1;33m@\u001b[0m\u001b[0munpack_zerodim_and_defer\u001b[0m\u001b[1;33m(\u001b[0m\u001b[1;34m\"__rmul__\"\u001b[0m\u001b[1;33m)\u001b[0m\u001b[1;33m\u001b[0m\u001b[1;33m\u001b[0m\u001b[0m\n",
      "\u001b[1;32mC:\\Python39\\lib\\site-packages\\pandas\\core\\series.py\u001b[0m in \u001b[0;36m_arith_method\u001b[1;34m(self, other, op)\u001b[0m\n\u001b[0;32m   5524\u001b[0m \u001b[1;33m\u001b[0m\u001b[0m\n\u001b[0;32m   5525\u001b[0m         \u001b[1;32mwith\u001b[0m \u001b[0mnp\u001b[0m\u001b[1;33m.\u001b[0m\u001b[0merrstate\u001b[0m\u001b[1;33m(\u001b[0m\u001b[0mall\u001b[0m\u001b[1;33m=\u001b[0m\u001b[1;34m\"ignore\"\u001b[0m\u001b[1;33m)\u001b[0m\u001b[1;33m:\u001b[0m\u001b[1;33m\u001b[0m\u001b[1;33m\u001b[0m\u001b[0m\n\u001b[1;32m-> 5526\u001b[1;33m             \u001b[0mresult\u001b[0m \u001b[1;33m=\u001b[0m \u001b[0mops\u001b[0m\u001b[1;33m.\u001b[0m\u001b[0marithmetic_op\u001b[0m\u001b[1;33m(\u001b[0m\u001b[0mlvalues\u001b[0m\u001b[1;33m,\u001b[0m \u001b[0mrvalues\u001b[0m\u001b[1;33m,\u001b[0m \u001b[0mop\u001b[0m\u001b[1;33m)\u001b[0m\u001b[1;33m\u001b[0m\u001b[1;33m\u001b[0m\u001b[0m\n\u001b[0m\u001b[0;32m   5527\u001b[0m \u001b[1;33m\u001b[0m\u001b[0m\n\u001b[0;32m   5528\u001b[0m         \u001b[1;32mreturn\u001b[0m \u001b[0mself\u001b[0m\u001b[1;33m.\u001b[0m\u001b[0m_construct_result\u001b[0m\u001b[1;33m(\u001b[0m\u001b[0mresult\u001b[0m\u001b[1;33m,\u001b[0m \u001b[0mname\u001b[0m\u001b[1;33m=\u001b[0m\u001b[0mres_name\u001b[0m\u001b[1;33m)\u001b[0m\u001b[1;33m\u001b[0m\u001b[1;33m\u001b[0m\u001b[0m\n",
      "\u001b[1;32mC:\\Python39\\lib\\site-packages\\pandas\\core\\ops\\array_ops.py\u001b[0m in \u001b[0;36marithmetic_op\u001b[1;34m(left, right, op)\u001b[0m\n\u001b[0;32m    222\u001b[0m         \u001b[0m_bool_arith_check\u001b[0m\u001b[1;33m(\u001b[0m\u001b[0mop\u001b[0m\u001b[1;33m,\u001b[0m \u001b[0mleft\u001b[0m\u001b[1;33m,\u001b[0m \u001b[0mright\u001b[0m\u001b[1;33m)\u001b[0m\u001b[1;33m\u001b[0m\u001b[1;33m\u001b[0m\u001b[0m\n\u001b[0;32m    223\u001b[0m \u001b[1;33m\u001b[0m\u001b[0m\n\u001b[1;32m--> 224\u001b[1;33m         \u001b[0mres_values\u001b[0m \u001b[1;33m=\u001b[0m \u001b[0m_na_arithmetic_op\u001b[0m\u001b[1;33m(\u001b[0m\u001b[0mleft\u001b[0m\u001b[1;33m,\u001b[0m \u001b[0mright\u001b[0m\u001b[1;33m,\u001b[0m \u001b[0mop\u001b[0m\u001b[1;33m)\u001b[0m\u001b[1;33m\u001b[0m\u001b[1;33m\u001b[0m\u001b[0m\n\u001b[0m\u001b[0;32m    225\u001b[0m \u001b[1;33m\u001b[0m\u001b[0m\n\u001b[0;32m    226\u001b[0m     \u001b[1;32mreturn\u001b[0m \u001b[0mres_values\u001b[0m\u001b[1;33m\u001b[0m\u001b[1;33m\u001b[0m\u001b[0m\n",
      "\u001b[1;32mC:\\Python39\\lib\\site-packages\\pandas\\core\\ops\\array_ops.py\u001b[0m in \u001b[0;36m_na_arithmetic_op\u001b[1;34m(left, right, op, is_cmp)\u001b[0m\n\u001b[0;32m    171\u001b[0m             \u001b[1;31m# Don't do this for comparisons, as that will handle complex numbers\u001b[0m\u001b[1;33m\u001b[0m\u001b[1;33m\u001b[0m\u001b[1;33m\u001b[0m\u001b[0m\n\u001b[0;32m    172\u001b[0m             \u001b[1;31m#  incorrectly, see GH#32047\u001b[0m\u001b[1;33m\u001b[0m\u001b[1;33m\u001b[0m\u001b[1;33m\u001b[0m\u001b[0m\n\u001b[1;32m--> 173\u001b[1;33m             \u001b[0mresult\u001b[0m \u001b[1;33m=\u001b[0m \u001b[0m_masked_arith_op\u001b[0m\u001b[1;33m(\u001b[0m\u001b[0mleft\u001b[0m\u001b[1;33m,\u001b[0m \u001b[0mright\u001b[0m\u001b[1;33m,\u001b[0m \u001b[0mop\u001b[0m\u001b[1;33m)\u001b[0m\u001b[1;33m\u001b[0m\u001b[1;33m\u001b[0m\u001b[0m\n\u001b[0m\u001b[0;32m    174\u001b[0m         \u001b[1;32melse\u001b[0m\u001b[1;33m:\u001b[0m\u001b[1;33m\u001b[0m\u001b[1;33m\u001b[0m\u001b[0m\n\u001b[0;32m    175\u001b[0m             \u001b[1;32mraise\u001b[0m\u001b[1;33m\u001b[0m\u001b[1;33m\u001b[0m\u001b[0m\n",
      "\u001b[1;32mC:\\Python39\\lib\\site-packages\\pandas\\core\\ops\\array_ops.py\u001b[0m in \u001b[0;36m_masked_arith_op\u001b[1;34m(x, y, op)\u001b[0m\n\u001b[0;32m    110\u001b[0m         \u001b[1;31m# See GH#5284, GH#5035, GH#19448 for historical reference\u001b[0m\u001b[1;33m\u001b[0m\u001b[1;33m\u001b[0m\u001b[1;33m\u001b[0m\u001b[0m\n\u001b[0;32m    111\u001b[0m         \u001b[1;32mif\u001b[0m \u001b[0mmask\u001b[0m\u001b[1;33m.\u001b[0m\u001b[0many\u001b[0m\u001b[1;33m(\u001b[0m\u001b[1;33m)\u001b[0m\u001b[1;33m:\u001b[0m\u001b[1;33m\u001b[0m\u001b[1;33m\u001b[0m\u001b[0m\n\u001b[1;32m--> 112\u001b[1;33m             \u001b[0mresult\u001b[0m\u001b[1;33m[\u001b[0m\u001b[0mmask\u001b[0m\u001b[1;33m]\u001b[0m \u001b[1;33m=\u001b[0m \u001b[0mop\u001b[0m\u001b[1;33m(\u001b[0m\u001b[0mxrav\u001b[0m\u001b[1;33m[\u001b[0m\u001b[0mmask\u001b[0m\u001b[1;33m]\u001b[0m\u001b[1;33m,\u001b[0m \u001b[0myrav\u001b[0m\u001b[1;33m[\u001b[0m\u001b[0mmask\u001b[0m\u001b[1;33m]\u001b[0m\u001b[1;33m)\u001b[0m\u001b[1;33m\u001b[0m\u001b[1;33m\u001b[0m\u001b[0m\n\u001b[0m\u001b[0;32m    113\u001b[0m \u001b[1;33m\u001b[0m\u001b[0m\n\u001b[0;32m    114\u001b[0m     \u001b[1;32melse\u001b[0m\u001b[1;33m:\u001b[0m\u001b[1;33m\u001b[0m\u001b[1;33m\u001b[0m\u001b[0m\n",
      "\u001b[1;31mTypeError\u001b[0m: can't multiply sequence by non-int of type 'float'"
     ]
    }
   ],
   "metadata": {}
  },
  {
   "cell_type": "code",
   "execution_count": null,
   "source": [
    "df['width'].sort_values().head()  # mixxed type"
   ],
   "outputs": [
    {
     "output_type": "execute_result",
     "data": {
      "text/plain": [
       "id\n",
       "20822            (1):\n",
       "105337    (diameter):\n",
       "98671         (each):\n",
       "76420         (each):\n",
       "91391        (image):\n",
       "Name: width, dtype: object"
      ]
     },
     "metadata": {},
     "execution_count": 190
    }
   ],
   "metadata": {}
  },
  {
   "cell_type": "code",
   "execution_count": null,
   "source": [],
   "outputs": [],
   "metadata": {}
  },
  {
   "cell_type": "code",
   "execution_count": null,
   "source": [
    "#writes the changes of the to numeric back into the column\n",
    "df.loc[:,'width'] = pd.to_numeric(df['width'], errors='coerce')\n",
    "df['width'].sort_values().head()"
   ],
   "outputs": [
    {
     "output_type": "execute_result",
     "data": {
      "text/plain": [
       "id\n",
       "9453      3.0\n",
       "21771     5.0\n",
       "21770     9.0\n",
       "8976     10.0\n",
       "509      10.0\n",
       "Name: width, dtype: float64"
      ]
     },
     "metadata": {},
     "execution_count": 194
    }
   ],
   "metadata": {}
  },
  {
   "cell_type": "code",
   "execution_count": null,
   "source": [
    "df.loc[:,'height'] = pd.to_numeric(df['height'], errors='coerce')\n",
    "df['height'].sort_values().head()"
   ],
   "outputs": [
    {
     "output_type": "execute_result",
     "data": {
      "text/plain": [
       "id\n",
       "93796      6.0\n",
       "86955     15.0\n",
       "123141    16.0\n",
       "117797    17.0\n",
       "93763     18.0\n",
       "Name: height, dtype: float64"
      ]
     },
     "metadata": {},
     "execution_count": 195
    }
   ],
   "metadata": {}
  },
  {
   "cell_type": "code",
   "execution_count": null,
   "source": [
    "df['height'] * df['width']"
   ],
   "outputs": [
    {
     "output_type": "execute_result",
     "data": {
      "text/plain": [
       "id\n",
       "1035      165086.0\n",
       "1036       66243.0\n",
       "1037      160181.0\n",
       "1038      125292.0\n",
       "1039       81405.0\n",
       "            ...   \n",
       "122960     93025.0\n",
       "122961     93025.0\n",
       "121181    108450.0\n",
       "112306         NaN\n",
       "127035    335280.0\n",
       "Length: 69201, dtype: float64"
      ]
     },
     "metadata": {},
     "execution_count": 196
    }
   ],
   "metadata": {}
  },
  {
   "cell_type": "code",
   "execution_count": null,
   "source": [
    "area = df['height'] * df['width']\n",
    "\n",
    "df = df.assign(area=area)\n"
   ],
   "outputs": [],
   "metadata": {}
  },
  {
   "cell_type": "code",
   "execution_count": null,
   "source": [
    "#find max id\n",
    "df['area'].idxmax()"
   ],
   "outputs": [
    {
     "output_type": "execute_result",
     "data": {
      "text/plain": [
       "98367"
      ]
     },
     "metadata": {},
     "execution_count": 208
    }
   ],
   "metadata": {}
  },
  {
   "cell_type": "code",
   "execution_count": null,
   "source": [
    "#find row with max\n",
    "\n",
    "df.loc[df['area'].idxmax(),:]"
   ],
   "outputs": [
    {
     "output_type": "execute_result",
     "data": {
      "text/plain": [
       "artist                               Therrien, Robert\n",
       "title                No Title (Table and Four Chairs)\n",
       "medium             Aluminium, steel, wood and plastic\n",
       "year                                           2003.0\n",
       "acquisitionYear                                2008.0\n",
       "width                                          8920.0\n",
       "height                                        14850.0\n",
       "units                                              mm\n",
       "area                                      132462000.0\n",
       "area_meters                                   13246.2\n",
       "Name: 98367, dtype: object"
      ]
     },
     "metadata": {},
     "execution_count": 209
    }
   ],
   "metadata": {}
  },
  {
   "cell_type": "code",
   "execution_count": null,
   "source": [
    "#find biggest\n",
    "df['area'].max()"
   ],
   "outputs": [
    {
     "output_type": "execute_result",
     "data": {
      "text/plain": [
       "132462000.0"
      ]
     },
     "metadata": {},
     "execution_count": 207
    }
   ],
   "metadata": {}
  },
  {
   "cell_type": "code",
   "execution_count": null,
   "source": [
    "df.info()"
   ],
   "outputs": [
    {
     "output_type": "stream",
     "name": "stdout",
     "text": [
      "<class 'pandas.core.frame.DataFrame'>\n",
      "RangeIndex: 5 entries, 0 to 4\n",
      "Data columns (total 20 columns):\n",
      " #   Column              Non-Null Count  Dtype  \n",
      "---  ------              --------------  -----  \n",
      " 0   id                  5 non-null      int64  \n",
      " 1   accession_number    5 non-null      object \n",
      " 2   artist              5 non-null      object \n",
      " 3   artistRole          5 non-null      object \n",
      " 4   artistId            5 non-null      int64  \n",
      " 5   title               5 non-null      object \n",
      " 6   dateText            5 non-null      object \n",
      " 7   medium              5 non-null      object \n",
      " 8   creditLine          5 non-null      object \n",
      " 9   year                2 non-null      float64\n",
      " 10  acquisitionYear     5 non-null      int64  \n",
      " 11  dimensions          5 non-null      object \n",
      " 12  width               5 non-null      int64  \n",
      " 13  height              5 non-null      int64  \n",
      " 14  depth               0 non-null      float64\n",
      " 15  units               5 non-null      object \n",
      " 16  inscription         0 non-null      float64\n",
      " 17  thumbnailCopyright  0 non-null      float64\n",
      " 18  thumbnailUrl        5 non-null      object \n",
      " 19  url                 5 non-null      object \n",
      "dtypes: float64(4), int64(5), object(11)\n",
      "memory usage: 928.0+ bytes\n"
     ]
    }
   ],
   "metadata": {}
  },
  {
   "cell_type": "code",
   "execution_count": null,
   "source": [],
   "outputs": [],
   "metadata": {}
  }
 ],
 "metadata": {
  "orig_nbformat": 4,
  "language_info": {
   "name": "python",
   "version": "3.9.4",
   "mimetype": "text/x-python",
   "codemirror_mode": {
    "name": "ipython",
    "version": 3
   },
   "pygments_lexer": "ipython3",
   "nbconvert_exporter": "python",
   "file_extension": ".py"
  },
  "kernelspec": {
   "name": "python3",
   "display_name": "Python 3.9.4 64-bit"
  },
  "interpreter": {
   "hash": "63fd5069d213b44bf678585dea6b12cceca9941eaf7f819626cde1f2670de90d"
  }
 },
 "nbformat": 4,
 "nbformat_minor": 2
}