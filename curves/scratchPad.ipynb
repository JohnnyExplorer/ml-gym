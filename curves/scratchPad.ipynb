{
 "cells": [
  {
   "cell_type": "code",
   "execution_count": 2,
   "source": [
    "from PIL import Image\n",
    "import numpy as np\n",
    "\n",
    "w, h = 10000, 10000\n",
    "data = np.zeros((h, w, 3), dtype=np.uint8)\n",
    "data[500:256, 500:256] = [255, 0, 0] # red patch in upper left\n",
    "img = Image.fromarray(data, 'RGB')\n",
    "img.save('my.png')\n",
    "img.show()\n"
   ],
   "outputs": [],
   "metadata": {}
  }
 ],
 "metadata": {
  "orig_nbformat": 4,
  "language_info": {
   "name": "python",
   "version": "3.8.10",
   "mimetype": "text/x-python",
   "codemirror_mode": {
    "name": "ipython",
    "version": 3
   },
   "pygments_lexer": "ipython3",
   "nbconvert_exporter": "python",
   "file_extension": ".py"
  },
  "kernelspec": {
   "name": "python3",
   "display_name": "Python 3.8.10 64-bit ('ml-gym': virtualenv)"
  },
  "interpreter": {
   "hash": "23a57ba950122df2dfde00927abc540b9cf56b74a13ac6ceb8665ec94b862d14"
  }
 },
 "nbformat": 4,
 "nbformat_minor": 2
}